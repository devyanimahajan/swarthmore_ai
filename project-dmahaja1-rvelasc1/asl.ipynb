{
 "cells": [
  {
   "cell_type": "markdown",
   "id": "f2c545fc",
   "metadata": {
    "tags": []
   },
   "source": [
    "# Interpreting ASL with Neural Networks\n",
    "\n",
    "We aim to train a convolutional neural network to recognise the ASL alphabet. We would then extend this project by creating a live motion capture system that translates the ASL alphabet in real time."
   ]
  },
  {
   "cell_type": "markdown",
   "id": "d9fa308e-54a8-44b0-877f-161176c392d4",
   "metadata": {
    "jp-MarkdownHeadingCollapsed": true,
    "tags": []
   },
   "source": [
    "* 0 = A\n",
    "* 1 = B\n",
    "* 2 = C\n",
    "* 3 = D\n",
    "* 4 = E\n",
    "* 5 = F\n",
    "* 6 = G\n",
    "* 7 = H\n",
    "* 8 = I\n",
    "* 9 = J\n",
    "* 10 = K\n",
    "* 11 = L\n",
    "* 12 = M\n",
    "* 13 = N\n",
    "* 14 = O\n",
    "* 15 = P\n",
    "* 16 = Q\n",
    "* 17 = R\n",
    "* 18 = S\n",
    "* 19 = T\n",
    "* 20 = U\n",
    "* 21 = V\n",
    "* 22 = W\n",
    "* 23 = X\n",
    "* 24 = Y\n",
    "* 25 = Z\n",
    "* 26 = delete\n",
    "* 27 = nothing\n",
    "* 28 = space"
   ]
  },
  {
   "cell_type": "markdown",
   "id": "bb4c6a04",
   "metadata": {},
   "source": [
    "# Get the data"
   ]
  },
  {
   "cell_type": "code",
   "execution_count": 2,
   "id": "dd786e60",
   "metadata": {},
   "outputs": [],
   "source": [
    "from aitk.utils import gallery, array_to_image\n",
    "from aitk.networks import Network\n",
    "\n",
    "import tensorflow\n",
    "#from tensorflow.keras.datasets import fashion_mnist\n",
    "from tensorflow.keras.models import Sequential\n",
    "from tensorflow.keras.layers import Dense, Conv2D, MaxPooling2D, Flatten, Dropout\n",
    "from tensorflow.keras.utils import to_categorical\n",
    "# import asl csv\n",
    "import numpy as np"
   ]
  },
  {
   "cell_type": "code",
   "execution_count": 3,
   "id": "9b99cb89-3a69-47b6-8e6c-44551018a571",
   "metadata": {},
   "outputs": [],
   "source": [
    "# read in train data from scratch\n",
    "# norm_data = []\n",
    "data = []\n",
    "# n = 200\n",
    "# with open('/scratch/rvelasc1/asl_alphabet_train.csv') as my_file:\n",
    "#     lines = [next(my_file) for x in range(n)]\n",
    "fp = open('/scratch/rvelasc1/asl_alphabet_train.csv', \"r\")\n",
    "for line in fp:\n",
    "    img = line.strip().split(\",\")\n",
    "    data.append([int(img[i]) for i in range(len(img))])\n",
    "    # norm = [int(img[i])/255 for i in range(len(img))]\n",
    "    # norm_data.append(norm)\n",
    "fp.close()"
   ]
  },
  {
   "cell_type": "code",
   "execution_count": 4,
   "id": "1cac7330-d685-4d1e-a8da-221202ececd6",
   "metadata": {},
   "outputs": [],
   "source": [
    "train_x = np.array(data)\n",
    "# reshape to grid\n",
    "reshaped = np.array([train_x[i].reshape((200,200)) for i in range(np.size(train_x, 0))])"
   ]
  },
  {
   "cell_type": "code",
   "execution_count": 5,
   "id": "b5c7fa69-9d54-487b-9429-647b83353c47",
   "metadata": {},
   "outputs": [],
   "source": [
    "#read in train ans from scratch\n",
    "train_y = []\n",
    "fp = open('/scratch/rvelasc1/asl_alphabet_train_ans.txt', \"r\")\n",
    "for line in fp:\n",
    "# with open('/scratch/rvelasc1/asl_alphabet_train_ans.txt') as my_file:\n",
    "    # train_y = [int(next(my_file).strip()) for x in range(n)]\n",
    "    train_y.append(int(line.strip()))\n",
    "fp.close()\n",
    "train_y = np.array(train_y)"
   ]
  },
  {
   "cell_type": "code",
   "execution_count": 6,
   "id": "80582eaf-4750-43b5-89a5-6d43fa812529",
   "metadata": {},
   "outputs": [],
   "source": [
    "# get test files\n",
    "test_data = []\n",
    "fp = open('/scratch/rvelasc1/asl_alphabet_test.csv', \"r\")\n",
    "for line in fp:\n",
    "    img = line.strip().split(\",\")\n",
    "    test_data.append([int(img[i]) for i in range(len(img))])\n",
    "fp.close()\n",
    "test_x = np.array(test_data)\n",
    "# reshape to grid\n",
    "reshaped_test = np.array([test_x[i].reshape((200,200)) for i in range(np.size(test_x, 0))])"
   ]
  },
  {
   "cell_type": "code",
   "execution_count": 7,
   "id": "6721d49f-552a-40db-a950-63afc6f24ec0",
   "metadata": {},
   "outputs": [],
   "source": [
    "# get test ans from scratch\n",
    "test_y = []\n",
    "fp = open('/scratch/rvelasc1/asl_alphabet_test_ans.txt', \"r\")\n",
    "for line in fp:\n",
    "    test_y.append(int(line.strip()))\n",
    "fp.close()\n",
    "test_y = np.array(test_y)"
   ]
  },
  {
   "cell_type": "code",
   "execution_count": 8,
   "id": "62ee320c",
   "metadata": {},
   "outputs": [
    {
     "data": {
      "text/plain": [
       "(87000, 200, 200)"
      ]
     },
     "execution_count": 8,
     "metadata": {},
     "output_type": "execute_result"
    }
   ],
   "source": [
    "reshaped.shape"
   ]
  },
  {
   "cell_type": "code",
   "execution_count": 9,
   "id": "43e37a52",
   "metadata": {},
   "outputs": [],
   "source": [
    "#test_x.shape"
   ]
  },
  {
   "cell_type": "code",
   "execution_count": 10,
   "id": "3d6bf184",
   "metadata": {},
   "outputs": [],
   "source": [
    "images = [array_to_image(reshaped[i]) for i in range(10)]\n",
    "bigger = [image.resize((100,100)) for image in images]"
   ]
  },
  {
   "cell_type": "code",
   "execution_count": 11,
   "id": "f42627ef",
   "metadata": {},
   "outputs": [
    {
     "data": {
      "text/html": [
       "<table><tr style=\"padding: 1px\"><td style=\"text-align: center; padding: 1px\">19<br/><img src=\"data:image/PNG;base64,iVBORw0KGgoAAAANSUhEUgAAAGQAAABkCAAAAABVicqIAAAQn0lEQVR4nFVaTY9k2VWMOPe+zKrq7ukZtz0e2wxgbGRsIQuQWbBhC/xKfgMrFmwRC0tYYGT5Q8b4Y5A99ox7urq6KvO9eyJYnPuymlK1uqoy33v3no84EXGT73XCJhkIUzQMwgAoGvXl/RsmCM13AKBBg/Ui4f3vAJMkQSD78vdXSAXb1VUshwMDKw5NQtryABKwUtI2vA3nEFPASAfShAkHTBuglVZCCebGaHFo/fhR5/uHxGbLJ5iBfqCf3vTeHMBg2gRhpeUhbyO3zJHD2oxNlC1ApEUwQCrhkTKQOU4AHnr88fV5bOvwkNKDY8h3ZHS2w9J7X0AahkHbKShzaNucuY2Rm2V4DAVoSAQAYummbQ1jSJ2f/9w2pBxDq3KMNTMwDK9b3m2MYD9EW3o7RDgADFtyOq2zpLEO5aocTkXakg1XstDIMG979BZXsGXbW2JoTeWQV42RGZl5J1Bg68uTQ2+xgLKR0BMYWyo1tjHGtjmlVNqSaEE2nYFuCSYZtNxgwIKlzG2k5O3MMZxjJM73dyJi6UtvfVkiALkDUiqZPmsdm4Y1pAENSZJ7RIdskGGTIGg0KWjDsoAcTuXIcRoeGzKVZ3qEHNeHA9oNGUsHDEjiGDlSa25SessckJZuiwAMkgpj9gYJNcpcQCRsOc9ybucxMoelHNv2xjaiL8ty6BE9YNsSMp3b4HbSltbHHS1MIIgABcNmzBphgIAdgAP9CENyesvUOOe6ZeSQdH6Q6b7Eclz6sbvB1JBzszLxq86gERFhohG2aNfeDAKwEMAAAQAtCB0DEpReR2pdc+TI3LT6HqkW0dvVdQvGcg3bfNKhEeFaLmnAsgkbO3aQIbd6Mmg4TLRm0FWW0rZqW0cO5OaRuZ1e0Z29tasW/SY6TCSTdgNosrLiZAFZPZAVPTmUpICCq2bTgK8gKJ3axjbGqtyUkLaHW4Pt0w42wSZAmgHuKyYDhrwnxSDCCAdggLQBBGCIbGgHQTakHB65DZyHh4Za75i3tUUSMAHvOBuwg/W7WbcmQAG0ouoQaAXUNMNmW2DYdnpLjdGedtAmbYgImzQxsZsT8gsiL0+A0QEIBOV6vEmYNK0QSAoiiAS8vNtpzZGhUBisaIkgbc+sAEBtZS4eCAJorgyagA1ADWGazYbdA/DSuu2wCbpSkw2gEa6LWNUcYt28YHafVDAqZiacINxgwiJNyCYQcEdrdSFgZJAZBEAKrgXODKt25GqhvcJDc02smNFCiCBMu+7AXpvXDHvdYibUFXhH9ePbX+F9SIdm+ECQFWRGwBADFr2w72BV6xQD4t52ABiuSW2yRvjeNQCbPIuYVSdz0qNaCQxAbq1jx0NUlQoRACtNJlk3J+ggrMqyKSMcqmdMRoH5PKIGl8xGNvaZ3+IhrHgLUU+KmJ1d9QmYdbM2IxwyQUAAsVc4AYTp0GiNAjonq8El+xYmjLXZ6/V8ApktijQVOWFWFmDPLsLeMSCBTrMB/dICjnoERV6gUYAlioFqBysIGkIzAgYFRG2nqtuXgYSgAQb7vv69nirrVtTbYLLthI1z0oAWSFYmOCsTE6iNeeEOo+h7B3vfrQHH7G4TAUJzJYxLudaW6o8mmo3KNtHqP16Kjr2qF/TbDWKZQe+5Yb3dJOyii9orAZAZVVSz6vdSggl6PgQZ+wV7W81MkdCsOuz758w8C4jiMdTc546rKjT3jH6B14mD3vepKBgCJybvma0Ona3RomJDe8LwHAWT4TlA9z1p9a8gCARozTWDhOPC1vEYWCj2SthfJGLuGa4ARIsOWc17v/MttZANs9wrjXsvzrXQgi43B0LEbARwzk3XpR0WTFCzUTzDQ8OQd1QpYbA3/p6cFpfm4EwXMX+uK2waHSDDhCsinuGSCdGImHOv0vVIYmZqYw9dVTT3oGn2E+dOTIGZcWlF78urHekx7b7cZHbfLq1KrV0iJOxJBwqML+0IAPJbvQtLWffZUbR2Y4ATox4LYlKDyzb3e08AJBQBVTomZtdNedEbIPaRP+HaiIhLAGOvgdpl8JF3uAN0htFmN+0Tr4oIcDKi6n+uen+1gkntC6v9vlXrRRQmQHISEtoU55Cc8cJcuJGcE8G+pI0mmI2XjD9mtAIFkGSHswYea4cF6ICAmDDg9M7juFOiuZa9vC9oOPe/LxGkJk0jnNHq1VKYAKy9lmwgUITR9Oy0C3khC8ASpfADjNm6JqYaizTNqL9dIkruxKDiE9gH+P+rqDkKDYpQmI8g94jqfdJBA1Dg8fo56yrBtcD58EuwzQvw2oXKuAS2OlsI2EUk9uIubJykaMLwbAwZ7QLVE3YuAbOlgDBF2iXOk0X1t/6GjAs3mp0FA1attHCPE5YrAiIoSAJFVdkVFbR3aCE6oAvQU2yP4doxo+aZAyIj9hVeqnWmbnLn4i11xRxEKN7lnTdPjJ1cgnO1sWfRLpWy/1p9b2o3h4yi2DuMoAZSr7u8tbLZCLZMou2lEiJAOai9HMKAsmMYQRuzlKngxKQZlQ6t4+qiqUGbc2jQKu/A5SXYsSviXSIg6BFz+ADRbARsRxFbIWi4QycvMUcVYIsiEWArZjhmiQIwFEVh4CJPYFH+Goml52BTiXicPN1e5pUAoPpnmhCBkHc6NItcYMk1yqRKXk4CbAdL4c2IR4mnjlKeM4KeSoBTWzcYgBAQSZtZLgXJoLJDoBRFVsyGRD04IMA5oZ4mkkGrKkeT/Jf+La2kmhDTnvSk+tKlE2xzXH3hsL487ez1YmhY6IbUqAlddCl4q0hpukZsMuZ12hnJBjNnDC36+I3t+3dPrkzWHK4idM34beQILsgIcSHQSjdDDpuZC4ElFQyM6i8BUeqAgkXS4tXP/unH8e3vHMpkgGCQMpvd80dPQsbCkCO6OjvUAQYCSglHhJaRDWFG8sDo4eHm1mm7046Om/zn/8r2m3MnzSCYwQle0b02Alixs1czSAjNiSCjejKrritw0ZTlXPHqLz64++jXf/IHnywf/WRlX3/UEI2NiOxdjQaW33f0JYs7gmgCgQix254qLGgyGHAYYSNoNnq7+lJuf/Puj3XzV3/0q1z/5yGjPVkbEEDYVm8GoH7XJ+ssTGEIDMhQhEqkygGrdIv3WWBi/fBvj58cr/7le9uX/u4///1h/PIND9FaNTLAwQBIsLOzCio8O7jsGkMNNjX9hbIEigAqiHB++6//+z/OX7v53fnu4bvH+09ef3YKHg+46IsOGEIQnBZliBbnLCwqVeWpy3CNwnMKMsLf+rOffu+n9//74Xnp64+/El1ja3p+IEwzUe5swAq7I8vSghBmlLJwsOTNpJ+sJqV3kMyvfvkHt2+ivYwjQrfvRAdbtOswYawf/PntDx+qgwyjW1LJcWhyCgqWJvnftwaXeyODHO998/u38WCcPlvutzU/7etYHYejbWL95j/gh9f31bmQ3W1DnjZNt0kRSCDGrlfCdnDOVgD24Tv8Rfft/baaJ6/9tuvhvkXvttr2pb/8wb+9PHTvBNydKVWHAsw6OyAApCcxIWyIrqwRRH7rD7/3GuPVmrlFajSNPEvBjqT713/1rz9ZPmy7yEx3OKdImNw1ylKZuEM7NPESdsnFD77x8x9+0u9P9oMjcutbW8+draJ787Pf/OzVF2PUvDXtjkzCiTAoO+Cabph8EBDmzA2ayEB//zcf353Pr1eM06G3cZeK7dwP0ejsbfzydy99UxqqVEr3GCYdVWI25nPM2OkVoGBxxPnC4cWLX9xu23Y3nh767euh5XRWHEmHkHm7NVaDQa6hBWSgug1hh10oPJtkGjRmcY+wD1+4vns432/rw2uoxyuFD2cf0Dppry8/fjl66iJB5V5ExwAQdJJz+LvJcFSOYMCJqCn/7g2vv3z7g5NPGxTnc2/ehoCrgNnHb39/ooZakhTCcoc0WbIzykyp+T4PI+yLqzk5XLsZh88/ef+D7/58jC4NAxL69fOb6wYsT1+/ubffvFuS1UKgO7WbdJ7mCbhLBbpodFwUPAFgJXn88NzJ4ZHS6D4+ff+D51fN/erV7am1HkVYSVjuNcZ1IRyYsrDYQLEKJSfIABC3u7Ulnnxl5fF18ubFiyfHdLzzor1+6C/aZ5vYb561aTjRRocGEGITHd4byBkExNBO3C5akX7tp8+e9XNcff7Du+W9D9479sXKQxv35+P4eByv1sPNk9JSxUP6XDwGInK3Ri9kbpepokqmmNRn61Vr2Nrz/rknBy+tISzkiptnWK872/H6SZleUzp1lKlsuBx+BSESAgk5CNRhZZS1CW150Pr7sXbnu/Emw4lIwiPHNnId4vLsMBmXQZsdo5cnBlj0bpSDJOWwAuK0G6bhsl6PNdch9X5/tz5saNt5iF1jO4+W9zjeNBpBzXrsCKZLZpAhTlu3wTBavU+TcM/5lVjG6TY92sv1/u7l2ptOUrPDhjIOz5aAYRmGQ9nByQ1mV7AOaszpdtfWmuZQNYh2df70fO+A8v7V/e3GTpEMtiJm19cWsRtVKljhLr89orzbCIBCoO2uUTPQYDTQsf3u1WkbvI7x+s2bdUVEi6Wxhw2349PwNCxgMDs66mKSDDNAIoggpntZlgSmu4KggNPp5cOWh3uMdR1Bq0VrvQXbIh2eHEoJTIYDu/O4IIqmxDzWCpiOGaw6RihscXmYuvv07oyDT6mxIQ5Ca0u0xuhEPx5jtyU8zYmOCE7TRQGEFDnRfsoFT/97Ki/Ap9s3o0W3LUUxzujR+9Ja67sBVWS5iARUHu+0dBoBtEcDFWROsOdFeebpbNXIoEt9t5urJZaifhfbpI5giW6Ayba7LiIUJIH0xTMv2TxlpsE4rumVQTsdILi887SjFZrux0AoT9IogFSf0FTTZP5cWrUobD1ib8rDM5wGhAZlqfNnz9tFnu2+RhEqFUCmUB/yiFr0UuuI0vZTENomYmJlu4k4S+qNciPdr/alTaoWKmOMTgodowUN8XKclx0Gg5NplRadh5GFnbxaNuVGNCy242JlwnUAuv9smOXc0WKW0wUjsB+F6q0ogftHWgwYLZZOIMBwkpPdXvwBxxxPJWHRIdUxa8xDgiAVYYHl9RZqhbC3MWnE4ewDaLaiam33gLg7s1OSc0J9RnAEGbMa6xhEMFuBNVsx2d0oIMnWbWIgIFs5bafHxCA0CweNPQ5oL+6G4XQnwGwkRFOdF2B7XGPMw45m0CMbm2Xk/pY6gtrdB1cAu/TFL96/BOmYltM8Y0bJFTrxeFyDWdBkD0UGvJ87zMPp+Q2YblYFpvc/ffbbT6OdfVha3SMjOE/6Lgd/IQEsbU4i3CJkRCM42eCkgVMeejaFQaDH+/fb/ZvXr/D8a0GDSO6m1fRia4yCYquHU0T0lNmay3+xEcIUN6xPz9QHjALBfvrHu1fjcN1xeu8LZVnsBwnGrvdRp+7wnNOBmCQtkwBbrC4LeJ/S87I5Nnp+1A9XgAZ//vzYKl8BIow5HjV95d0HwoTRAPqouRQ2SYTK3AuWkrFI0e58wvS4h/P116/UaiuXQ0AbjIEaZ9gNdtOth2weqQSQxgxRqY7LZ5bKcu9+sw0oQR3d0eq8OxhAnxoVzQEStNush0BbDDmjrUFGms29JDinrjbYbDVE8N0tZxyXr74TZcDt0HiBkcIHzWlBB0YagOyhNNSfHeZhoPdz5qlpQf76/wAzlJH2y9KcOwAAAABJRU5ErkJggg==\" alt=\"19\" title=\"19\"></img></td><td style=\"text-align: center; padding: 1px\">14<br/><img src=\"data:image/PNG;base64,iVBORw0KGgoAAAANSUhEUgAAAGQAAABkCAAAAABVicqIAAANtUlEQVR4nO1aTY9s11Vda59zb1V1P7+XF3/bwYpIgpVIIMgEBBNGzBG/BvgtjECMQCIThkZhBpECKFLIh2XHcaz42X5+z91dX/eevRaDc2/bDgiShxnhUner+lbdWmefvffaa59dfKYAJmgDsAnAoAHABCDQYH8OmO6vASZBEiAAmgBIG8sVCUaUIGKu9Y+GtKycpcwmpahUQjItWbadJABYSMF2SIKHuhnHYTcMEbWwsJaohaWWGprn4yyO2+Hime/UeHaQZ0BqaWjW3DynWlq2qLThFCzJgZQMIwypcT6xRB22NTa7sdRaY6MiOFCG+CKrNZ32x/crXrgMT/O5nWfZliSppbNpbtnAbKIgSLasZihBwBQTlPK8z4iBw/YitttxHCtrYam1lhh3dxBvVH3/bh2futyVIs2tTbN8VktAknJWm9QwN7IJSNmKbLadEMOFLk4p1dr+A282Iy4vx22t4xiFMY6lbFBxM9GspW62m822jiUAHrOds6XVhEzkSU2ZshIWm5hpW0rLCiMQrXtwPrUPg9vNbrfbbUsdSqnjocbXNOU55+nGLaKWzVjGu7G5jIg2zW0+N6SUVmqSMmfJlhJwgzIBWBLIkukgZWS7+ahal7vh8u5F3U788l9eXF0fj4fDeTqe23z2DESUYVPqZrcdx6CRh+Z5nqVmpVpr8qw0ZKVhU7MBZSZElVoEaG7KBDf14rrGq89a2c6n/f6w319fT+fjaZpmHecsVB2GzXgxjvciwjhPp0mzZjNbc2a2vm12Qk7KnkIJOWLYBC3J7bSvaBZK2X6BgDRPx9Px+nBzuN5Ph9N88ukIKmrwYrPZDcPlvQpPeZ4zlanMVGq2c2aaajTUKCdo04xCDKwAvPyCHMe7oAVNx9PxdHx4c3M87M/nKaerRkWNYdiMu6HeQ9FZs3LO2cLk5tSEtqRpJgQD6txQ8YmHYSYAMLY7Esic5+PV/ni4ubo5HY6tHdvpMc1St0MdhnHYVjbKJ2XOcmZrkOw0nLQSaIz6KZDOOt2uzlCl7O69CDin+bTfX1/dHG6u5uk0t9M1qChlMw67Wi82I3LmqUmtSS2hbJxNQC7v/gLILz68gHGzuUtY0unmtD88vro5TsfjSW06u0UNjtvhclcuCimrTZia3DrTYfs/gHwMhjSBiDtPBew2n4/7/f5wvd+fTm0+KR+b5jgMm83mYrsbamY6szU7Xv8lQW7BTKtv433Cyvl8PH90uDoe9+fp1KY23TQWDuO429TtOJSghn/7FUB4++fjbSxld5+23U6H8/54s9/vT9Pp3Hz8yK6bMozl4l7+ipb8J8tgAATHzT2A6XaajofDzfnmeJ4O0zmndvXBh/9LkAWq11UAHIYAYU0+nU/Hm+ur81k/+ExAPgEHNALAyJ0DQuY0vfXZgPgTzxcxsOR7xIZ34zMB+W/gndD/NQgA4HOQz0E+B/kc5HOQ/88g/MxAPl1+CdK9ZwaaB0ifJUiQADyf5oKcdXr4/qOf4jd+88uj9akK/sQgVJ0eHQ6H0/s/f+94M46n4/XVw+u438rzr/7+N++OFQlAT759FYDLD/7m+zeHKQ/cbU7WoU1NHutu+/if3nyt3Hn5t34b5zrqiS2qAMq//+n3Eqxj5HVrMRMw3T7MMpQPfryt9Vt/2H70yp98I58UpQLMv/1uNG623p8TIpFkoLVE5R537sf+r2Z8740/++qT2hIAHn/HMy9289V+TjkzLcuahWwN04Ofvnd1fTi9/vf5pF6pAH70emw2+Xi2gOYgiAinadPOZnkq592PzhdPDEK9dr5s+6MaAhYBxkAIBGWkpkFtRpvnJ86ZCnz0z3E6yKIVLOQ4QCw1T2R6wEydZ7HNx/OdJwaJn7xznBMSYBeCLC89XV78g/jHn1znvL8BfE66TR+8/wzAJ/F9Rbz5WDIEoSArYvzmn/8aL7f440c30/G9dz74ux8nYM1Xb339tg/5FUGIt87KDNi0IYx3f/d3YDfU518AADz8fpFh37z2e3efjGKC5/dgUjZpKVm3X0emAGdrraXvBB3ONn33W09ILYHDhwEQBitN2fe/AZIkCJLm0zSUbdLh2+/9F5Xhl8CtuP75WTKIAhlwvvDU1BA2AyjB9qAFrHA7PvjwpV/ozHpdgHnbD3/80hIjBOr819+TYTMCStDPDn8xcCw510vooparb9MgZJ1u/uG9CkcZA2GAwSA8CKG6GWt8bFSABREwnUOr87dvmP3wN0YB9fntOwQcUUwQbu+qn/NmO7/+kADDEQgmqvuugo5SiKAJOECClcOQWVP1B7U9omUQVrl0gx8etw4GCYRJ1QFORLSULwpASBF0kl53ShQaGHbAJCBSjr5h9VjzBgIIOGOzmdDmNE2IYN/GgrANyZWmESXc6nITeoAASQYBmiRMRhggYdSoniz3ujdfD7an6RLoO04DdCgKgCCHAasAcDFpxhphDsAkSUPRceyOj0Am1jPyVi8Krh/BWF8m3Q60BEZgE/0yGf1DTJIRBCNIggS4nOHby79ggHA/xjfQNsjDA9dCwIII5A8fhwCzlNgFGexZxMVvywoRjLKwTr8MM/o7UGGRcI/qdhHygx/evdzWcQgA0d7+2faoQoSjXhSZ6CsDieiTijAZZgCB1REETcI0iLqoEBsBpMZj2/8Lhsu7u3tfuLsd9m+/eXMSkqFwCyK6T1mkAi9b0wccnSJuWYA0zLAC1SYy+hUwL/fJ3cX5/BDvKC6fPzw4nhtoUG5VoEsvnGs20j1T4lP0QhoBkaRJVpiGYUIMzRtYB1FMt3z0QZAMa6ExFzGA6BObxQrg1oKAFlfDAIvR31wBcZn9WDGf4JyPJhV0XBUCwQALwKgRpNlBymJFD/RuDaLHLpYrAENkhVw6uzkInQQpYEOkiejhXEYHHKhmwET38pKIy6eZRqx2dTcZZAQrRHYMmFaUeT2+MhlBG0GSQx3KRckgaER01xJcCjKJ6EOt+KTze9BW0lr8IpBlm6u8isJKKYNgCcLjFxm0o2BZaMCOMOjbXQxzJX/QYQrB2mnq9pS0Dds9BBJRK4rsQoKMgJ+/r0/uRc9urq5ZL61c34MFxRGVZab7BE+kk5t56sfMUcJOkGApQMUrQ1tzYSWd5Z9u1TIAXHwBAGEQhXV47s0+PHR/sG6bABpuTOXtBBGXL2OpHmtykB8HM9YkX7LGPSQMApWv3rxb+jiTTiKn7XgyTCHtZcXIiPbc/STXmLoN3dUeL5u2LonR/WMEKy6/9jD7Kmw4LF16ggHZdOc4Aoznaos1+5YcDPR5KmkvDNytdCJtGaLqqQKvvP0Wb4+PhThf3LmZlgt0r3zmcPHyGiDkwhkgrEAzIViAxebsx7XOhC2ifFTBzasPJq5aw3Cexy1mLAv2Uu28uw8CEgLOgOxG2NlCLT0Ebci0HQYhEpBJOaup515+AwwtOiYjZ1XO7s6LTu3U9nCCRCQpE4vl7DNpCYylTtHLsBpEl7+VcnzlZ+fAcpvhNBAl14G0aSN872atEeElTOFQHxtxVtSehWsM27eerjjD9770+vIyTAoIKyJzKeF2QJt76hsHJrwS8ToHQOkfQJGU6W4hDRusPtN8+d3jWgpsqNNVIB3hPqxvz90R4egsRxgmxdsiwrruQ6dad2v7ngc0K++8HLeEIAApp1FijX3CLww2+uTSdi7jbsgyZH1KE0evmStNIsyw+dLOt6uyjZZ2V2oBw2h3v9TDoquOfnyRdtopRPe0brtjrjW5e6afSGD37HWs+nh1ncXSacEevrrT8i2HJfXQpVaQVr+wZtHqrIXjDCxxV1/c6GM7YEBJYBGagfsvaymqAXYdBguAUJzdjjVTY602AUYJLPeQvvMMScC2CVsIO/qiHZvdly86G/csNwMgZaOApdf1LiCDNhi3tR9kMJZ44jN1ifKlLKLnrMGg7z33CdlrdZ6yUQrhUsAAg4xY5Fy3pgvBWlkhw0S9f/dD0B93UoYW+UYqxr5QmIAZIOiICJha3LG4pTM67VXSwt3xBHDxzKOeTv2DAECFvl0VtZaQIB2Ahk7EYfQAcVkqQJeQNEiYIuta8eO5d/bd746O4hCBKFRE6/eQXb+TZiGTi4QM9KhbCwmsxbQAIipomqTuPntNAFas1ah/r8aEW9IVseqfpWlF6XUkuv4lGCEgCJACgQi4FNZuKxh+6cGeoIOwEex4EAhM+6dLXdqJ8CIRvIpJAu6CiCSCFMCS7i2AAxVLmhbdf+ENUL2T6Ab0KiWU9hGqFyG/FPjVpkV4McKEEQig2EvT1+tmBdRbmhKvvLtfWG0hIotBuHi+Po0FAJc0Q+9ZF+kIOxg9JiCCAcsshe4osRRsk3z61+mexzB6k7fwXzvugYi4zYRFa/cGi1FKv8pgYakRBEsNlohgiYoII7ojX3nnUa/sWI8BLESYunr84iISVkm1CBeji0esfRERPcQAo8BksOd59H2485XvZqB/UWOJK4WNxPQRBqPHF5b+dsFaBL278Cd6FtKgetMVqD3xesjEl974gGsVXrmYScb8qMumniEA3LuENdDZY2LderN4aYYFsKJUMqgIAHe+9ggChc65iYAAh/Do/aeK2IMnljq8LK5r1UAs9Eba6D8BwEOperuCsbTDcb5ot99p4XqTGTz+68PiHkCr12gwVpG5StalqPQs6MqvvPkftUNzsSaKORIAAAAASUVORK5CYII=\" alt=\"14\" title=\"14\"></img></td><td style=\"text-align: center; padding: 1px\">19<br/><img src=\"data:image/PNG;base64,iVBORw0KGgoAAAANSUhEUgAAAGQAAABkCAAAAABVicqIAAATRklEQVR4nHV6TY9t23XVGGOuvU/V/Xj3vnffh3nyw4ltxSjGJsQECeMGEjiiQ2hEKKLLP0NIiF9AEyGEaIBwL0aJSXBQjILt+H3dW1Vn7zXHoLHqBtHgNEqnqs7Ze6815xpzzDEmvxogRAAQwXoHAGD4+C4gAPzV7//v6/9+jG+/+HgxgIDkkS86jx8hvP4XJG8/jLd3D/4/L4olh2hERVJpKhBJ4dVH+y8GGQFgbMZcd0fCBPDjOmgSCAJU8HbZIRFSgIMOAwkBWnIAFjM+/GuePbKVmyAdxEESBhAYglESByQARkFAAwTBgBAhwIARlQiQARgUkduvvPJ5eNQH0d0xrzEZKGBAeq2IDOW3z42AsPB4FQIguR4gIAQENAmWwfCdrzyZZ4PDr7k/S+5ztK5ngCgkvTYBZCCQQQLlbeAecyXkyglTFCEErGqEm/XBR+PBo8iBN6CK3FTbMyF317g7RViAicfQBIRirezLY0IAjzsJDIZr6ajukdsP3vPrnRjgQEKfgSzUpfYnt+rm9TgAEwWutLHFMFSYrEwU394wkERynYCkyrj96J0jVZ2UBkJvsY1wnmVol8bN855HjlMr6umqgORjwAFaDEkwAYF6eyYIwbW/+9f5MG/mFEkMbA1GWDkb2GfIUSpuly6H89pJEFOPh8VUlBAkE0BUIiQGxDQvLz70hOyorAzuTVBxT3idcgLugGSwa78p7g/HOR06EA0BMkIgIbBSNyZjVaZuP34+7yEfYpDG0O2BWXCyMZ1ywgUoCYDX2Ap1cLuN+r7PlC2vg5cwhKJ6mwQA4/Heq6dH7wnBIUQa/Lo17x98d4d0CHhCzVpgQwGNeY8FEkVsbZ+MARgrRrSyToyV7O9+MO7n7pRI8dwHBj+4mO28Pvvh4c2X6CMkRU4yTCUMZKQRAezC2NFGtxIjRLygCCVmf/89XpuRiohrH+DI67JqsCqnzvO8O8/j/rhvk0h6d4dABQoRuhmXSEIgJuNAC0NlbOPVKx9ZKZfNhsIM4D4ec7gqqPH8vdkHz3teX5/HG58uNIR44RZkcAWdNFSMkBQNisKLV9sZii22aJCINDBBzuOq/WjFe5HE7VN1MnPm/u749C7oAwnVC9weK4VhAYSRhZj7i1eciVAbLRRAooYGWgQZdwL2NaL6XoU8RT/Z3r3iyoeH++PNeT40EkKWCSKFbmYBLlLj5tVTngiSHhAzB0qIMVBMJAICUO2QfWgwX0yMQav09Pad0gP8+nj47DzPNmUCURIBZGTo9v2bU86GimaRArvYSsaCfs9KKLTKaAgWe9ZsTQUUurz7FfuTHG/uPvd5lzQxHosbIL14NY61qnKJCcVLggAD0PSmzKE5982IqYEOMOiEcM7c6Dy7xbK3ly8/qOPhuN734WNmVdDtxQtcS5Y4UOIAOmIoEgPJRniDYaLZImqC50hYbsFJ2sFE58xRVEtP3pmYOe+ufT3c582T5zzG1pFpbEwogGRD4Qi3tHawAXZqxcbYSCKCLQ+ozbIPjZyp7NdJ7pN8fuvDfXrTtCozrKRIAkYxRVEY3JAKoBjeGgoxQxdaCHNqIFvpaAJ7WEeUnoYn4q2lM7eoc1YRBY7FPAItriWVBmDunnvFG8nAVAjjlFJTYx7iGVITKHk71Mw2eQTkCcSZgzUEpKrK7FjFclXUVjjIlEFiKGGZSLzjkBAKfdlnYosK0kgPTsyoyoyxUIUmnfIm2ptECdxhYpDiiAtBORBcKNCAcAknoEGmmE7oJC2UjYGDYbmpng0xtLKXDZkZFaQSOTUUcaSUWoxgIBCgLoKza7DH6BZCGPZ1bK46p8AbtIASwVo1k6gqgwpACrRJFQBgKACEWZ5kE1Yw0NFW+6R77lY3JLs1HGzj6AFM1NZwWLhCqQxCe0OtBdsqaoMVcoACkB5FgDUmwbmXO2kw2sdkIDrYGsJEbUPJzXUUTWCiUFAIFxld2C2zSBQXxxyoqtnaFdo1TEHtQj3uRKmyAUlESkhHHaGrIEcYYEgVvbFdJAfp1piVjATCSIXblWKSXhhOIakRm6RVRhixNzrckAwCm+wxTp5AJTDGALWFj8QJRikegTGYXc2RLmCEDABlAoCQQmPMSLPqDKvJwU7MUXOyaJ4ttgRDGPIgKEBKCekSgQGTlhxWFpUKzHFYjBZtzGDgqhlIoTAJVVNwVbMRJqNSVm0VulpDa4u3eHBEbmQOWQwUrtK3kUhk78QGVEzWYozuwQpHxBlT8iwaJRpJrHKBZHvnDIkanNqAniMuJbQlWkRiiFUxzCQaZhCBFjsA5S4KCXs90tZJL3yFgUEoFDHAgnCq7MXqSqXG4rkKxJmSRzASm1ApgW1sZxUAqxqLHitBEWwW47QpUhjYSLBGWGoShQL30+Q2jSgii+e6XqkFDDsJdxRk2yUFkdwU3UXsEwOGhosaGpC44hglHqMtJFVpgPtMh6AEVQeGWVYYkRbR4QYkosjsROJCimERNUCUBlIGtgBHwZnbOIFo2MRgihgpV1Wopm2wTI3VZyUo2QY4dILQ3gFVtLchBtTAQII4VGuKkFdnOaPRGQYou2JlNZFqaPRi5IPhXLyjLkl1VzELT8pMAoozA4PEamQEFpsI3BRDt1bXUtOmQJkcJrKfYMYMtbU3S+mkqgrcyDkHWEqE0fh4rl5WAsaQ4IC0uY+KA9jaqBEMVSJtGmPbtuJAUZs4ZJV2pY1QzAy5l4bIKo3oOz98byCJLm1IUZ0pkQAhNSpi1BUPZWFSWQz3aWZopsGBeI5aSkFGB6QoqxzOd773a9UD3GcssuGQI6sJMukiFD8UuHZUCKgNdrarokKS0pwFk9RKQlNsUkUpn/zOq2M9R6FByZBRHRmCgL07IamuQpCwAAxZAnWu3LJPkzxrSTGWQBYKALL/1jfHpDCYqBvDS2YICaTFWv0CSwIAF5tKS3EVAloxN19z8ZyREJobWKBFEP3hd3+9TYgDxIkNFjibmMVJKU4qwywxorIBA2BJLSGoCs1GQ3ZyAZ3UAFZs5qb61t+6bRBFjlisdCCLDIcVr04iLEhsZNUZ4hH6WaE1WjIuODWG2kxuUJlVIGq+951fS1eyZI/qyFbXY3BRraUvCULSUKwg1AQgr569EqlO7aTMOHVcj1HJvkGcH/+d908olEAMlnRm5xEklfRSe0LKcAlLJANCCRqumkQ4OqDUudEDujV6Hn755svxweaM7/xmTdYSqoiReWEgbJ6QCJp2NQYgo1ZfiFhIlykgCqCQgChE1YcvOTZdxh0fvnwf7//NT85zJ7GuyMFcSZ0afBTuYmkWV312ArLDUmVeCqZd6dEZkYI9Uel1d+oW2yH3Hb/57acnxFIgguAINxBV89SYLgPacI6WWaCXWlOEZEZY6heRMTqBItRQjfuf+xbzOBG8990xOZi111ysqZhZbuSMMsEBbZ1o0GTEx2OGVCCoxRKHyOkxwOPzXzaezZ/cfrJN4Iqn3yirBMZjyXoc6KZXh+W4oyoH1twJuLzBqQAso6zRXJ1zOsVi/+LP7x7m51d8tl2ex8357a89UuMoC3kx8PRpep/bXW04KXo3FfCItppCNcfi71tGMLSRRzYDcH720zthk8b93O7+x4fjYc6Pvx8OsGReZgzBGHp+KV/CC3d1wVUQQHmaF5WRHU0ShYgn26P0+tP//XmuX/b/+lL19Hn1WYg+7ydC/+DDSXH/8r/++c33fsMLuwd0OwvERqnUY2TtBvdsUoQEWyGEQu8EsX/+4z+bt9v1fD1enG+uuSwVhOf94Dd+e0K4+Yt/9Ue8/OHv//Z8PIy0pOZmcTFiVihHCAFXJQAVhODG15/1Fz+6vvhgj9/79NM7+e5hjExwhNaz3333rGyf/cs/HLV/+qNvF1bgBxOPpSqLQIWkqoUglEgubRbAeP2jP/0iXzy8Ux88rfNhV2dTI6FQ03X56rcjkP/2x8qYeIAYImPRPVZUwSofgtZhNok8isoQrM//859PHcivvhy/sV1mPwRWJBXNvmzz3dsubn/0HzbGfby6WSqjsABmFV0G8cbpOHRYAyxkbZyZnz28eLrVfvHDf/+fd/P+4Xqe7cFuN1C6vPxIBB7+3aF0go8GsRpTVAdwF0n5EXYjMVag9FvLgrj/4lnO7eHhNY/7P8aL6Zs8eD7TMTe0MXt/F8jlv/1JzaDr8ioEUxxoC4EDGia8rJIkAeMlypMAM77wjXDz5u7y7Iu786fvPWvVPnljb+qZ+OH1EwX48esr97BffjRJsDMAgZMsmPHFipKywIgEybmkCWB+ptuNT5/czU8PHg/3nDOVUnoYPWvbx/MAb35yWILnk5dLnM6ACCOGujgSSqGNYgE0BpWGAPD1cbNXder4klGfZHeHs3ZbD7Pad/fI+Mufcxim37ks5V2PRsWmKrVJFSmjFv2xSUhkrNRR0nlYl+uV52GeZwq9a57263vWuLxLYfz082BUUE8efRYOOhRkAsOTHCCEWn5DkU2RcaH82ezWMW7Ph9ezrvHZ6vb0NDgvQ8zty+T4L/djL6djuBiJI1U2KEsiwa5OiTMbOxCSIBpEziY+3YC9ucHAlNmGzzBLNz1/cdf1y5/4CC/ECq9KHCiGlMfWq/GFrCUVDTzS8KRgVN+d14fBOTiIOiXPaVRXt9veLs/Gp9x+Np/PmWtVfVJZGzYAi0sJQYgUWXBviCEBxYA2g6r86s3Zl3eeauzz8Kw+09ctZwMk6fFRF3/a27DP8L3vVVBFrTLpoMhzMcNYXOWQkpdLpcUzb5/lzf2b6yXu0HdOeo7CjCaHwOPLL/jwE/bG3Pj47idSISJGsKsbJY8ajlgGUMvhCIOsW0pXe788yPfPQ00R3XArBua53WCD7v7k+MWvCrKYm787oCDtDFYZQwoBk1pqMkgFcBFEVVxGz/TRxOt3i9HMQZ0Tw456GxnIm5d/+q8//+XNpsnkm99qmdTiwnaYmiEjdDErb0HBKAJDGeMkhdhHv57Bec6erlnPbzLfeCuKTT3431PX+aRA/M7Lq1ar8ihFSZ2SKIZjTIC1TKQeAliRNk+jlPTn1zfneX9ix5nn743zzB1YyqZyRlXLZN7/rgsEqeJA7TRpUqhIFgWiQIIsYvVYHInUGsL9X969fpgnCEK3PllS3Vysw/HsbRvo4tc/TrhsvAzuj9LXAAn3MpMVpJbAHgqIa2i4RlD3f/ysAEm+iEch4c22jYmtPGHgzKb6zWcnVREpDsBhONjZlmmUJb9waavLk2C6tlP7ue1HvT63vlwQ3u59N8ibC4QZFrQV4txU33wzGGGRKY3MVauQWCAzGEQC4TFMoaOy1eptq9uHzc/hfcO1t23bi73LgcN2MR6waubVV6ziXwXey62fQSLiUZaGIC/PnMypgp4WNGp7qgtOCLtZ+w3TkftcNkpQQnH6/PqLiIpYtWtwS6ACa11PMKqCLAhd/BSF4Pb2Lo0nNfIgTW9GbRDZoNQWFVKcsPX8txgRqhLFkbiS5paWlvkdNBHK1iBkyZY4Pvqz3E7M7QipCgsabqDJauOSpiCcJj7+G5Eoaskr5IZHX5bhMlcW40JAO2tygUy9rNqfjq1YCFl1c7vT6XNS2TbFLOVMyv4HL1mQltWYgWX5IgoSBx7sLiHhyLo5hKb87NnnqJtD4yRpbZdLP2zImGmxYcAB2335vd91usgEpGoEkwrfTiJYBXNQYFjJ+hmNBm/f/5VUWyNkUEPlbbq2nHY6FcsK8o3f+8FY1rBKgjCQR98eISzFgxlr7iNlFJPANSB9+NPWJqlAHC40gq2PI0l3QqNPv/vDf/zh0W+DLoIYUqF6OYWBBQRa0x3LfHs8NSzl6Ysv1bXFMylo7+PYaMuOm61cs/+9f/otTb2dgFkkd4QjEDA1EmnNQ/QSgGks9wkSlWwvv6jaGgFSi6id83AngdhH56v/7PtPsPB79TQmsayNkDMEihIWtgiQ5ZSUx7mEpJ8xzAxmREwOsA/Dmdht9PaD3/9aoEaAUqkg0MhgXN21hhwepa5QYCKUloq7hlmod9WNiuVQTnper6yI83Dff/MPvr83ZxfCFehafGcAS3kqC5SaRdcSuxsVejFNkSCePP3UQJFIpXTM4zi8cWdPzr//L752nCVFciTEhLVOPEegYQ6E6MWKoqUde2fWHFEIKPvtz+d5nmd7WJ4dB37wuSG//o/+4dMz27IXZSYjtGiBg6RZSW8hAEphrxmFEVkgYC311H4Ksa+zt911YN4/NAkeZ/2TP3jRR4kIBUvJpoC1UJjFEF4TGIuFUwohcbJMEEYtJ/kcOHuaulxs+OGcE02Hf/ufP5v1qIcT5dWd6ZEMC+FAU2P57MnKVxJOqbHkkaBARKNuysesbRRkzzU3wXd++PTg46YSVSAp5e1U0lh/n2M5mNKiD2UCMklm1cogpPZnzfvXnq0t5zTLm7v44htdggTGGUseJLZHKOHgNlwysbRGlgIwElAT+1pJYZlkqg3b7c2R+aRVCFuYGfzaV7YhoASCJRCuUUtfJWqc/3F7hPVHoTyoxxjRKZJB4e3UzJu/QN+9efDdNed5nDYZGJ/+m4gLfsLHsZe1GorjP/0fcKHfVJKayisAAAAASUVORK5CYII=\" alt=\"19\" title=\"19\"></img></td><td style=\"text-align: center; padding: 1px\">2<br/><img src=\"data:image/PNG;base64,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\" alt=\"2\" title=\"2\"></img></td><td style=\"text-align: center; padding: 1px\">12<br/><img src=\"data:image/PNG;base64,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\" alt=\"12\" title=\"12\"></img></td></tr><tr style=\"padding: 1px\"><td style=\"text-align: center; padding: 1px\">27<br/><img src=\"data:image/PNG;base64,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\" alt=\"27\" title=\"27\"></img></td><td style=\"text-align: center; padding: 1px\">3<br/><img src=\"data:image/PNG;base64,iVBORw0KGgoAAAANSUhEUgAAAGQAAABkCAAAAABVicqIAAAR+klEQVR4nGV6S69lx3ndWl/V3ud1H81uNp9NUZRlmRZhGYKNRAMNAmTgQYDkF+SPZZxRBgYMDzzIyIZMCHrYSmTJlOmWJbYoymw22ezHPY+9a60MvtqnBeQOGn3vuedU7frW6/vq8ppwGARBO2SZBgHCBkshABjLv/li/5Z2AGGCQcOwSQYsIYIyA8JUuassQi0xVpYgTvvp5OkkmzPqZrVdjdtaSylBEKabSwEAmkG7oQ6V6+1uHAOko3KUTjNrhdowOP6mujBMt+Z9VHhYcRclYjqdDtMszYcvEXVYra6266GOBIl8UJJBgGJIbXr+eD0O69V6jBVDsQOK2zQP4WGsrMFGiiHPZts7jHE1lt11SO1wmqfZ0wGfYBiH7cXFOK4KDJIgSdBEpTSf2o2HiCjjehg265HN8FjhISq2ZTYkoIiASITntg8XxlCGzaAGzfN+atP09HfU6nI9rDfrVUQQQSFkUlGKWeHD3NZjZV2vNqtSSguLlbvaZAMzZkO2HbRpN/sElwKOZY1dAXXEaT/ffGFyrLvNuB7WERuiOQDNJWaaQ/XcxOe1ls1qGKp3U8VQigFYMC3PajbcD95GgycEGTFEGXe3w0dNN/Px8edNZVPHi/V2typByiAjzAAGNB21N4cS68c1tpRkm1EaYFhu0dRgUAIBm4JnTCbKUBlDveA0Q9N8OkyfgzHuLlbXu+IBrcFEKZVg2JxOfv6s8uWhYdbcZnFqNosAU7LthinCQrQWIN1QYrrS44hAKVwFUdp0Oh5unp48juOdi3FcV09YqVr5XCArSq3BoGahaW6tqcm2CcCcDbpJMkBXM/7Df3/yP/6V8AkCo3AYVi9Fk/Z7TQ8ctaw327V4+fLQ2lwUHlhRB0kODi6AaedzzTPUhCqBdDNtqGlY/dfXbv704dE0rPDs+SAMI4frW2Fp0s3h+eyJw8vXm91QDOpUuVrLMmHIhGnVcABy08kT2gS1EuFGAB4e/a/vHQcLJm2vINicfRhQopT1eJu1HW6m47PP5qHW7XYcn1ZGEAJpwZRBWDYZKNyFZHiWpkmyHPTHP/v49MqlJBuzC0TCEGi0mXwWLqVercJtvtkfjo8abypAIwCi0CiAbVqmRDbSLNxAsN3m1jTeffcXz7SiZ8ACLAOiAUczYbi143OWKGXc1qZ2+qiahbCRtCAMFtow6PzsOeQCRgxk0bg+HGq5rPPRkEO0AMAzhMEwBAVstjY3m6xlrIwwqICAXCk1PlLRZdJGNFIAgXrVPKzvjA2ttalJnkEYLWjJsmUL5mBJQjtoX0FHQFQR0wBCKkakjxQRLsAIWVGA7fjJ8WIMFq4i1CA1za1JAiTaNGZRs9mabUmlgiARKIpuPoggwDBgMGAHQBAAweu4KVxVE20qBstgk6bb3NzmNoOqZFhwa/NszbUiAgDhMBEG05oIhBIQTkdE2AG8daVaa7UDBTbllCyUkRHWrOYJEuyQTo3zvK5AgY3l8w0AJmkbAEJcMEFEoLzzFON6yK1EGGB/EjumIMcCgrKNuc3zrPk0VJCEjHA3b5OJtcXWwyBpOIpx6+XPbj8cRhIAafT/MDHpDpVAAQM05iZ9VA0goPMDwQRMmCEBZEBgEFawzG9u54v1UFDSd0AgjOU4HQAdhAGohetQynBRkfQDAiJAFcJK+w4RDMA0UlHj7tPHU6w3BczzhUmYZsmKigGaJIwahtyoyhJgUKATTwAQGUY6woJsDDrI9e6nP/+dN5vBAcAibQalYNjpIUGADrhQIFGigmHSYechA1mRXI0dxgUFCOpi/JfP6+VmPTg8h6oJk2IF/SKThYudsYlwsIJEBjuCCMAwItcywGQlAUbAL08PHvFyV0tpwzu3HvzWWUjSQtBwZJUYvT50kBXLV4ERtIMtoZAAi0jc0QTi7vEwrS/XJfz6d94qv33/Iwf69tjR1itimCRgBCqQJkjApRhgYQuKBGBEpcncILh6/cvtdjuo3n73j640j9969YOnMJbIRxgIMGCgCxNB1Dw3iEBQJC1W5rMaiCUnE2Dcvvh0fKkOX//22xduwOqVt7/175/+6t9LchJklh2kCXbBGkplVhsAoADCRjiMjBQBRAKCJdrrw4G3v/YnX11Zx1K+fPAMF6u7F/VTi7mTLg8BEWYlECisiXMEaNqgoxecC7aWTTDKV1i/+d7XRgvP5ys//pf373N19fLmjZNIk72MpBlAz7AgKw1QiAglkUyDggsRTu6mQhbcftXvXYyQy5PTdTz+4V/ed2A++s/+y/Qky80U1EiaCpGLOLlhJ+xIWAECKfDooAHC5d0LXcAAnz15pe6//5cfXVbOzzn/uPy3+XlXO8JZZpKMgEl2j5ftIORAi5KPiuVdIALBzX/8hvLo5v3t4XT//V/tHh6H/Xz7mh/EN1fIEwKKk2PZWkRH17J+imSk0S6lyD0FWL77rlL+Ue7QT3/z8+H08bTyfOKbux1ike0o6sEwOQOgIlPDuWPLk00u5c8YAdrb1xtSokFD+198fusXRzxj7H/z1p+vEsX5ESYJsTcHQQQj3ZaQyI7WZKLP+gWDfCaAaNPpaGD/+OH+ne++TRgWdp47JWnLSrvs7yuMTlfWUApcdyFGBz06Geens6HD4y8+PZnHG8n+7l8MgFt7Mnzjm+uuJzBoCYHzbhGpcCXcgNwAuby6+AUBQj7aOk4Pvxhweo7PPhgutSYJ6OGPHv3ptzJHI/WlP0b/qh2jYVoOdKAv2PLyLRHzPFcOT073Rkzl+PNPLq/bbr2PKBv+7d//2x+chnDWLEUruovbqRkEEREwYinEIpskIkgbDkyN9Jt3iPX2kx/sr7auK2vm7vTpx//zr08L4oNkV2VkjK1ASCoAHD0P9d8mzBRTgwZWmFcsdzYBl0f/+Murd6p2r/025mdHYLO+u1vUiOmsi0URCAsdzWDw9+AEIGLhpIHqFlDdhkF8+P7jq3tW/c9vIdy4vvve1zpmHOxoXbp9LqaWbiMvcOqhTo7kTBe4uaXvPPrJh9wVo919o7Wo4/Uf/PEIIH8xFayLEZno6nzrMiVJIGjYPezDJgEObkEYMf/mw0f1oqCWn36IGMart9+9TpomcOxlORkwqo2SMRUAJQOhnininCdpcCgYCkDgyYc/udk8/fzi5lc/elY0vnLv7dtVKesZKBNYqRk0KmCEGlxCsBxIfXfCLgNFnrCHITXnN9+7z/LRr1fHT5+Iq80rb7+0zSPOj7UWpgAKdvt1NMaiXEqOLlVkmAIoiEO+8bMPfna4iNMzH55NXF2/cuvi1VUKV3d60F38aINI+2VQcwk3dtNKpkSXYTNVgTChm09+9muSh9MsltWtN+699toW9mKlDtKWSab/ORkPURIAu2T8zBlbur7Rw22D4en57/7PD78Yqh7PEdt28fZXXr2zTmXoxDJEixFdyeVq9xhfLOaYLnXuvEoHojyp+Pj4s/s/uu8yopnj2rdef/PW2GHFM8cyHrnPqlAhFQNhN2WQK4tXARl3+388u50ePvzkx997NIzDxGF1cam7b9ylRcKM3F/iPgxmT2igoke98OwceDlR1YlOtJJZupHt0W8/+8f//QCswzTUzdVLq3uvhulFipY3pt8t8QEVsHqBw3yRJhe5I+CWEF7H84cff/A3/0o6ijd1e7G7e28kHOdfN5BSLEQvLYAKQEIEGALsFkv0MlkIAbQKzNXap/3jf/6l6Yi5buvFxZ17qyUfLAT0+QQWOwrXbIHcmKMn2K1jLyETlsKmYx3Q6fDwWMTwuGW9uvPmhilY5mIOWI7gvJZZUYpZDLoEicQw2GrQsEv0qWbZbHyaT198KUfMWm2G1cWbOxY0F8gLw7Pm6KFKpCFXrjdi5A+4xFnT9dxzmkDYl3Hz6MH9f3u6OraI3Wa82N77amb/UENAJKhUK2UmghhwoKIwSMIVZAk4HOxiDYIUFJVoaz198M8f/HxPsF5crNcXb75T84RKA9AcmX3tPLh0B8A1KpyJNbpndbYv5EJ2syC27fjk0w9+3U4cNheb7d23XgllJ9IysS+KyrMCMzIt1DzDxf+6R0bPgGB2NQA4+Pj0WauHwnFYXb/xRzuBftF20CnfC4sVgJ3UqTZ9pl8fkbu7VC4rOojYXt7evPTe8NOTsbrafG0zx8KLBJaBtKiONqeeG0CF1JlqR/YoMODoWwsBEGK4LHe/s7uz+tXn1LDZ7BpFnFuLlPRu3+6LdsrY1QCQwwFDDqYAcDm6Hti0vXS8vhsfXn/hQLuiQNFpIoqcIC8Pkmmr88RGJSkQEGnRIi2ADi/0zWKuR8DX3/70Tx4/Hre+gNKRQINWn2rkWywusTB9qQJSpGvSNohQd7ce63MeVWDA13/4f187DStvhR53DZNKfe9xpacIgKCAlrJi8Ry2zvUqXtAI2HQOil7drC5PLf1Vi/DaWETLi3ovMm40VyiNOIcQeecEG0InbA48OasAQL3e5XSzEb3XjxdrLDBbQJoP6mrZOQaiaYbIjsd04JRS+9RCiHb53of36XZUjkwBsvl8COeTME3nTQKaKjs7WzD7CHd8OffYb3sITv90uHdn/MP33n/OeU9kdbMWC7AAWDSWLgE0BdWkUFK0MQyod2x98JezBTT/8q+effU737jzjd3TNh+SrynwizHazPYsB/vWIpYVreWAwp1R5zs+5nJdzm4++rsHh48/+4uvxzqa962Pp2FDmZ2sFERlns/lTFEValyUDjm8Q07T+qeku+n4/Z8cnh5/rP/0penpSVPApJuDctew5qWC6GvAEFFt26a6vgMARXfZzohkm4f7X+5Pp8MPnn3l1gNpP4VAWDJCZtidLkTi1YkdZZDoNwaKcPTQmHYaHSUpLseHN6dp5rN/eKKV9fy4UUlpcDPQzvabx2goidQIt3pOM83Ml5PIhBBc7Aeeblqbo52e/gSN03xau+GMqTODReZEocmWAFvlVFOfCUDZ40OxfK8++CbM/bFNbDqd9lGizoerDivl/YGcR2RCUvYoBmwZrnA7t1ciA8ipnTp1laXE8WZuktQmjNV+/FJmGHVZSWkU7HDLAhhIpucikQ1MP5ruju4dTPez42TL0zTPFD198eaiil2tleP9jNYEwOjWxIypOeQ9Z7q8QTqzJs/9JNjT6TgZkOfjNHhpKnIOsYRIpmGeExLAukhvdMYuv0AG0jTSj08N1unYhLCM/T4CSxhA3rz1g9ALIevLVDB/rsAcfSTuBG8AlKEA5efWPM+SYVs4NObicDJ3sSkiB5iLjwNAhf1i1Uwo6P1Fy8gHFYEnt2meZ4mGpWnK2zJkA0jmLCPkZUy+gNkZuLvJ9rYRIUeiukcDS2ADLIggVDx53wWn5wbatMBYKqLe4ZlEBWEErJxQAufZ9vJAhoD5ZNigCapV6OgeIc6WmC1b931EynvGOCAfgS9SwxL1UvZl255b/kRylvmons6kJAgsk/KS5zNHg12geiwJMpY8sHhn7tC2JtiS+5SEPjUjL/yATsMld/WQx4g+B3yhXQvoO07OG8rX51OzPc/NNIPgNBcxL3SBZD6XnjbOlhTOBHnGX+PvjxX6IkvYnefl0TLAtqMj5375ywEHZFI9d583bKC6p8BOjh60z0TqGY3HIzSflHok2/OUE/C+IcJg9FsBLGvkHQEqpDjrFbI1ffFHNuevQ8PcmuQexO1jj0FhQIYczisYxTIkQv4BDerSh+SUbnmAF8/Sd3TTjRnod9c6MScJBsywpWWo9ILbqdAOlDgD9ixbXIatvTz0iSnXcA5I4P3MOIc6QbabgCYwwChLE+/scJaqgADjrDrJIwYFTAd69pLcm9TacQldL2ZLqSXKKxcse3c/IKNfKOdYPvvm/vAw4WmPprP8WEJM7bwGMqh0XTVst9bTBJnalecS8hLKz7HFPaFzPrSM/SSsgvw7g6wYMywCAJv7fLCrpCEso6iO0+WqYTmrxc+A6TQ57/TzBduH/aabVY/nAOTwoivdp7ImWN4V587Ky4rnNHKc6Fk23Hqcn+fn6E27vSQHw4DaklqX/FVRatKi5Lzw9zWyLFAUHJMyUlFBAQ5lu0G6w7pDc5Fl02aRavD2twf/np78/zQEAH/xsVqTWraXEUMdh6vbJRPDC4XjOeJ3kSUEfPz/AL/+TYNCuf2sAAAAAElFTkSuQmCC\" alt=\"3\" title=\"3\"></img></td><td style=\"text-align: center; padding: 1px\">7<br/><img src=\"data:image/PNG;base64,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\" alt=\"7\" title=\"7\"></img></td><td style=\"text-align: center; padding: 1px\">4<br/><img src=\"data:image/PNG;base64,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\" alt=\"4\" title=\"4\"></img></td><td style=\"text-align: center; padding: 1px\">26<br/><img src=\"data:image/PNG;base64,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\" alt=\"26\" title=\"26\"></img></td></tr></table>"
      ],
      "text/plain": [
       "<IPython.core.display.HTML object>"
      ]
     },
     "metadata": {},
     "output_type": "display_data"
    }
   ],
   "source": [
    "gallery(bigger, gallery_shape=(5,2), labels=train_y[:10])"
   ]
  },
  {
   "cell_type": "code",
   "execution_count": 12,
   "id": "dc2131fa",
   "metadata": {},
   "outputs": [
    {
     "data": {
      "text/plain": [
       "array([19, 14, 19,  2, 12, 27,  3,  7,  4, 26,  9, 19,  1, 14, 25,  1,  4,\n",
       "       28, 24, 23])"
      ]
     },
     "execution_count": 12,
     "metadata": {},
     "output_type": "execute_result"
    }
   ],
   "source": [
    "train_y[:20]"
   ]
  },
  {
   "cell_type": "markdown",
   "id": "a1e8bc1f",
   "metadata": {},
   "source": [
    "# Prepare the data for the network\n",
    "* You may need to normalize the inputs so that they are in the range [0,1].\n",
    "* You may need to convert the targets so that they are represented as one-hot vectors when you are doing categorization."
   ]
  },
  {
   "cell_type": "markdown",
   "id": "33ca53a0",
   "metadata": {},
   "source": [
    "### Input data"
   ]
  },
  {
   "cell_type": "code",
   "execution_count": 13,
   "id": "3e6940f9",
   "metadata": {},
   "outputs": [
    {
     "name": "stdout",
     "output_type": "stream",
     "text": [
      "range of input values is: 0 255\n"
     ]
    }
   ],
   "source": [
    "min_input = train_x.min()\n",
    "max_input = train_x.max()\n",
    "print(\"range of input values is:\", min_input, max_input)"
   ]
  },
  {
   "cell_type": "code",
   "execution_count": 14,
   "id": "985f2f98",
   "metadata": {},
   "outputs": [
    {
     "data": {
      "text/plain": [
       "(87000, 200, 200)"
      ]
     },
     "execution_count": 14,
     "metadata": {},
     "output_type": "execute_result"
    }
   ],
   "source": [
    "train_x_normalized = reshaped/255\n",
    "train_x_normalized.shape"
   ]
  },
  {
   "cell_type": "code",
   "execution_count": 15,
   "id": "2b2482ce",
   "metadata": {},
   "outputs": [],
   "source": [
    "test_x_normalized = reshaped_test/255"
   ]
  },
  {
   "cell_type": "markdown",
   "id": "dab2fb61",
   "metadata": {},
   "source": [
    "### Data sent into a Conv2D layer must have a depth\n",
    "* This may require you to do a reshape command.\n",
    "* For these black and white images there is only one channel of information.\n",
    "* For color images there are typically 3 channels (Red, Green, Blue)"
   ]
  },
  {
   "cell_type": "code",
   "execution_count": 16,
   "id": "f7d946e6",
   "metadata": {},
   "outputs": [],
   "source": [
    "train_x_normalized = train_x_normalized.reshape(-1,200,200,1)\n",
    "test_x_normalized = test_x_normalized.reshape(-1,200,200,1)"
   ]
  },
  {
   "cell_type": "markdown",
   "id": "f7dfbfc2",
   "metadata": {},
   "source": [
    "### Target data"
   ]
  },
  {
   "cell_type": "code",
   "execution_count": 17,
   "id": "ab0c6992",
   "metadata": {},
   "outputs": [],
   "source": [
    "num_categories = 29"
   ]
  },
  {
   "cell_type": "code",
   "execution_count": 18,
   "id": "c7887a63",
   "metadata": {},
   "outputs": [],
   "source": [
    "train_y_category = to_categorical(train_y, num_categories)"
   ]
  },
  {
   "cell_type": "code",
   "execution_count": 19,
   "id": "dbb88cb3",
   "metadata": {},
   "outputs": [],
   "source": [
    "test_y_category = to_categorical(test_y, num_categories)"
   ]
  },
  {
   "cell_type": "code",
   "execution_count": 20,
   "id": "641b4d96",
   "metadata": {},
   "outputs": [
    {
     "data": {
      "text/plain": [
       "array([0., 0., 0., 0., 0., 0., 0., 0., 0., 0., 0., 0., 0., 0., 0., 0., 0.,\n",
       "       0., 0., 1., 0., 0., 0., 0., 0., 0., 0., 0., 0.], dtype=float32)"
      ]
     },
     "execution_count": 20,
     "metadata": {},
     "output_type": "execute_result"
    }
   ],
   "source": [
    "train_y_category[0]"
   ]
  },
  {
   "cell_type": "code",
   "execution_count": 21,
   "id": "7ece2374-0e0a-4273-b404-a3f7636fd62a",
   "metadata": {},
   "outputs": [
    {
     "data": {
      "text/plain": [
       "(87000,)"
      ]
     },
     "execution_count": 21,
     "metadata": {},
     "output_type": "execute_result"
    }
   ],
   "source": [
    "train_y.shape"
   ]
  },
  {
   "cell_type": "markdown",
   "id": "26b7f435",
   "metadata": {},
   "source": [
    "# Construct the model\n",
    "\n",
    "This is just one possible configuration of layers to learn the data set.  You should experiment with the number of filters, the filter size, and the layers themselves. However, be sure to leave the output layer's activation function as `softmax`.\n",
    "\n",
    "You should explicitly name each layer so that it will be easier to inspect them later. Use a clear naming convention.  For example the first convolution layer might be \"conv1\", the next \"conv2\", and so on."
   ]
  },
  {
   "cell_type": "code",
   "execution_count": 22,
   "id": "2bdac091",
   "metadata": {},
   "outputs": [
    {
     "name": "stderr",
     "output_type": "stream",
     "text": [
      "2022-12-09 17:26:36.547067: I tensorflow/stream_executor/cuda/cuda_gpu_executor.cc:975] successful NUMA node read from SysFS had negative value (-1), but there must be at least one NUMA node, so returning NUMA node zero\n",
      "2022-12-09 17:26:36.685172: I tensorflow/stream_executor/cuda/cuda_gpu_executor.cc:975] successful NUMA node read from SysFS had negative value (-1), but there must be at least one NUMA node, so returning NUMA node zero\n",
      "2022-12-09 17:26:36.685458: I tensorflow/stream_executor/cuda/cuda_gpu_executor.cc:975] successful NUMA node read from SysFS had negative value (-1), but there must be at least one NUMA node, so returning NUMA node zero\n"
     ]
    },
    {
     "name": "stdout",
     "output_type": "stream",
     "text": [
      "Model: \"sequential\"\n",
      "_________________________________________________________________\n",
      " Layer (type)                Output Shape              Param #   \n",
      "=================================================================\n",
      " conv1 (Conv2D)              (None, 200, 200, 32)      320       \n",
      "                                                                 \n",
      " conv2 (Conv2D)              (None, 200, 200, 32)      9248      \n",
      "                                                                 \n",
      " pool1 (MaxPooling2D)        (None, 100, 100, 32)      0         \n",
      "                                                                 \n",
      " dropout (Dropout)           (None, 100, 100, 32)      0         \n",
      "                                                                 \n",
      " conv3 (Conv2D)              (None, 100, 100, 64)      18496     \n",
      "                                                                 \n",
      " conv4 (Conv2D)              (None, 100, 100, 64)      36928     \n",
      "                                                                 \n",
      " pool2 (MaxPooling2D)        (None, 50, 50, 64)        0         \n",
      "                                                                 \n",
      " dropout_1 (Dropout)         (None, 50, 50, 64)        0         \n",
      "                                                                 \n",
      " flatten (Flatten)           (None, 160000)            0         \n",
      "                                                                 \n",
      " hidden (Dense)              (None, 50)                8000050   \n",
      "                                                                 \n",
      " output (Dense)              (None, 29)                1479      \n",
      "                                                                 \n",
      "=================================================================\n",
      "Total params: 8,066,521\n",
      "Trainable params: 8,066,521\n",
      "Non-trainable params: 0\n",
      "_________________________________________________________________\n"
     ]
    },
    {
     "name": "stderr",
     "output_type": "stream",
     "text": [
      "2022-12-09 17:26:36.687321: I tensorflow/core/platform/cpu_feature_guard.cc:193] This TensorFlow binary is optimized with oneAPI Deep Neural Network Library (oneDNN) to use the following CPU instructions in performance-critical operations:  AVX2 FMA\n",
      "To enable them in other operations, rebuild TensorFlow with the appropriate compiler flags.\n",
      "2022-12-09 17:26:36.689497: I tensorflow/stream_executor/cuda/cuda_gpu_executor.cc:975] successful NUMA node read from SysFS had negative value (-1), but there must be at least one NUMA node, so returning NUMA node zero\n",
      "2022-12-09 17:26:36.689756: I tensorflow/stream_executor/cuda/cuda_gpu_executor.cc:975] successful NUMA node read from SysFS had negative value (-1), but there must be at least one NUMA node, so returning NUMA node zero\n",
      "2022-12-09 17:26:36.689989: I tensorflow/stream_executor/cuda/cuda_gpu_executor.cc:975] successful NUMA node read from SysFS had negative value (-1), but there must be at least one NUMA node, so returning NUMA node zero\n",
      "2022-12-09 17:26:38.585839: I tensorflow/stream_executor/cuda/cuda_gpu_executor.cc:975] successful NUMA node read from SysFS had negative value (-1), but there must be at least one NUMA node, so returning NUMA node zero\n",
      "2022-12-09 17:26:38.586113: I tensorflow/stream_executor/cuda/cuda_gpu_executor.cc:975] successful NUMA node read from SysFS had negative value (-1), but there must be at least one NUMA node, so returning NUMA node zero\n",
      "2022-12-09 17:26:38.586341: I tensorflow/stream_executor/cuda/cuda_gpu_executor.cc:975] successful NUMA node read from SysFS had negative value (-1), but there must be at least one NUMA node, so returning NUMA node zero\n",
      "2022-12-09 17:26:38.586546: I tensorflow/core/common_runtime/gpu/gpu_device.cc:1532] Created device /job:localhost/replica:0/task:0/device:GPU:0 with 14318 MB memory:  -> device: 0, name: Quadro RTX 5000, pci bus id: 0000:08:00.0, compute capability: 7.5\n"
     ]
    }
   ],
   "source": [
    "neural_net = Sequential()\n",
    "neural_net.add(Conv2D(32,(3,3),padding=\"same\", name=\"conv1\", activation=\"relu\",input_shape=(200,200,1)))\n",
    "neural_net.add(Conv2D(32,(3,3),padding=\"same\", name=\"conv2\", activation=\"relu\"))\n",
    "neural_net.add(MaxPooling2D(pool_size=(2,2),name=\"pool1\"))\n",
    "neural_net.add(Dropout(0.25))\n",
    "neural_net.add(Conv2D(64,(3,3),padding=\"same\", name=\"conv3\", activation=\"relu\"))\n",
    "neural_net.add(Conv2D(64,(3,3),padding=\"same\", name=\"conv4\", activation=\"relu\"))\n",
    "neural_net.add(MaxPooling2D(pool_size=(2,2),name=\"pool2\"))\n",
    "neural_net.add(Dropout(0.25))\n",
    "neural_net.add(Flatten(name=\"flatten\"))\n",
    "neural_net.add(Dense(50, name=\"hidden\", activation='relu'))\n",
    "neural_net.add(Dense(29, name=\"output\",activation='softmax'))\n",
    "neural_net.summary()"
   ]
  },
  {
   "cell_type": "markdown",
   "id": "3407740e",
   "metadata": {},
   "source": [
    "# Compile the model\n",
    "\n",
    "For categorical data like handwritten digits we typically use a loss function called `categorical_crossentropy` and should be used in conjunction with the `softmax` activation function at the output layer.  This interprets the outputs as representing probabilities and forces them to sum to 1.0.  Thus the output from the network will reflect how likely it considers a particular input to be a member of one of the output categories."
   ]
  },
  {
   "cell_type": "code",
   "execution_count": 25,
   "id": "0ccf66ef",
   "metadata": {},
   "outputs": [],
   "source": [
    "neural_net.compile(optimizer=\"Adam\", loss=\"categorical_crossentropy\",\n",
    "                   metrics=['accuracy'])"
   ]
  },
  {
   "cell_type": "markdown",
   "id": "6656703f",
   "metadata": {},
   "source": [
    "# Create an aitk Network\n",
    "This allows us to do more visualization of what is happening inside the network."
   ]
  },
  {
   "cell_type": "code",
   "execution_count": 26,
   "id": "b099bd93",
   "metadata": {},
   "outputs": [],
   "source": [
    "net = Network(neural_net)"
   ]
  },
  {
   "cell_type": "code",
   "execution_count": 27,
   "id": "29dab253",
   "metadata": {},
   "outputs": [
    {
     "data": {
      "text/html": [
       "<svg id='keras-network' xmlns='http://www.w3.org/2000/svg' xmlns:xlink='http://www.w3.org/1999/xlink' image-rendering=\"pixelated\" width=\"75px\" height=\"400px\" style=\"background-color: #B0C4DE\">\n",
       " <g >\n",
       "  <svg viewBox=\"0 0 400 2130\" width=\"75px\" height=\"400px\">\n",
       "    <defs>\n",
       "        <marker id=\"arrow\" markerWidth=\"10\" markerHeight=\"10\" refX=\"9\" refY=\"3\" orient=\"auto\" markerUnits=\"strokeWidth\">\n",
       "          <path d=\"M0,0 L0,6 L9,3 z\" fill=\"black\" />\n",
       "        </marker>\n",
       "    </defs><rect x=\"99.0\" y=\"24\" width=\"202\" height=\"52\" style=\"fill:none;stroke:black;stroke-width:2\"/><image id=\"keras-network_output\" class=\"keras-network\" x=\"100.0\" y=\"25\" height=\"50\" width=\"200\" preserveAspectRatio=\"none\" image-rendering=\"optimizeSpeed\" xlink:href=\"data:image/gif;base64,R0lGODdhHQABAIEAAAgICAkJCQAAAAAAACwAAAAAHQABAAAIEQABBABAUGDBgwEGFlRosGBAADs=\"><title>Layer: output 'Dense'\n",
       "Act function: softmax\n",
       "Act output range: (0.0, 1.0)\n",
       "Actual minmax: (0.0, 1.0)\n",
       "Shape = (None, 29)</title></image><text x=\"305.0\" y=\"52.0\" font-family=\"monospace\" font-size=\"12\" text-anchor=\"start\" fill=\"blue\" alignment-baseline=\"central\" >output</text><path d=\"M 200.0 104 L 200.0 77 \" stroke=\"black\" stroke-width=\"2\" marker-end=\"url(#arrow)\" fill=\"none\" /><rect x=\"99.0\" y=\"104\" width=\"202\" height=\"52\" style=\"fill:none;stroke:black;stroke-width:2\"/><image id=\"keras-network_hidden\" class=\"keras-network\" x=\"100.0\" y=\"105\" height=\"50\" width=\"200\" preserveAspectRatio=\"none\" image-rendering=\"optimizeSpeed\" xlink:href=\"data:image/gif;base64,R0lGODdhMgABAIMAAAAAAAEBAQICAgMDAwQEBAYGBgcHBwgICAoKCgsLCw4ODhQUFBUVFRYWFhkZGQAAACwAAAAAMgABAAAILAABGABAEMABAAECKCAooGACAA0BDCgYAAHBBQ0KCDwwgEGBgwgLOkBAQEFAADs=\"><title>Layer: hidden 'Dense'\n",
       "Act function: relu\n",
       "Act output range: (0.0, +Infinity)\n",
       "Actual minmax: (0.0, 1.0)\n",
       "Shape = (None, 50)</title></image><text x=\"305.0\" y=\"132.0\" font-family=\"monospace\" font-size=\"12\" text-anchor=\"start\" fill=\"blue\" alignment-baseline=\"central\" >hidden</text><path d=\"M 200.0 184 L 200.0 157 \" stroke=\"black\" stroke-width=\"2\" marker-end=\"url(#arrow)\" fill=\"none\" /><rect x=\"99.0\" y=\"184\" width=\"202\" height=\"52\" style=\"fill:none;stroke:black;stroke-width:2\"/><image id=\"keras-network_flatten\" class=\"keras-network\" x=\"100.0\" y=\"185\" height=\"50\" width=\"200\" preserveAspectRatio=\"none\" image-rendering=\"optimizeSpeed\" xlink:href=\"\"><title>Layer: flatten 'Flatten'\n",
       "Actual minmax: (0.0, 1.0)\n",
       "Shape = (None, 160000)</title></image><text x=\"305.0\" y=\"212.0\" font-family=\"monospace\" font-size=\"12\" text-anchor=\"start\" fill=\"blue\" alignment-baseline=\"central\" >flatten</text><path d=\"M 200.0 264 L 200.0 237 \" stroke=\"black\" stroke-width=\"2\" marker-end=\"url(#arrow)\" fill=\"none\" /><rect x=\"174.0\" y=\"264\" width=\"52\" height=\"102\" style=\"fill:none;stroke:black;stroke-width:2\"/><image id=\"keras-network_dropout_1\" class=\"keras-network\" x=\"175.0\" y=\"265\" height=\"100\" width=\"50\" preserveAspectRatio=\"none\" image-rendering=\"optimizeSpeed\" xlink:href=\"data:image/gif;base64,R0lGODdhAQACAIEAAP8AAAAAAAAAAAAAACwAAAAAAQACAAAIBQABAAgIADs=\"><title>Layer: dropout_1 'Dropout'\n",
       "Actual minmax: (0.0, 1.0)\n",
       "Shape = (None, 50, 50, 64)</title></image><text x=\"230.0\" y=\"317.0\" font-family=\"monospace\" font-size=\"12\" text-anchor=\"start\" fill=\"blue\" alignment-baseline=\"central\" >dropout_1</text><path d=\"M 200.0 394 L 200.0 367 \" stroke=\"black\" stroke-width=\"2\" marker-end=\"url(#arrow)\" fill=\"none\" /><rect x=\"99.0\" y=\"394\" width=\"202\" height=\"202\" style=\"fill:none;stroke:black;stroke-width:2\"/><image id=\"keras-network_pool2\" class=\"keras-network\" x=\"100.0\" y=\"395\" height=\"200\" width=\"200\" preserveAspectRatio=\"none\" image-rendering=\"optimizeSpeed\" xlink:href=\"data:image/gif;base64,R0lGODdhMgAyAIUAAAICAgMDAwQEBAUFBQYGBgcHBwgICAkJCQoKCgsLCwwMDA0NDQ4ODg8PDxAQEBERERISEhMTExQUFBUVFRYWFhcXFxgYGBkZGRoaGhsbGxwcHB0dHR4eHh8fHyAgICEhISIiIiMjIyQkJCUlJSYmJicnJygoKCkpKSoqKisrKywsLAAAAAAAAAAAAAAAAAAAAAAAAAAAAAAAAAAAAAAAAAAAAAAAAAAAAAAAAAAAAAAAAAAAAAAAAAAAAAAAAAAAACwAAAAAMgAyAEAI/wANJBiIAMEBAwYKECAwoKGAhwICSJwIoGLFAAIGLCxQwMABBAkUiFSQYIGDBw44pDjBsqVLliMqDJBosaZNiRBzPhxgwGSFCxckqHzpsgSIAjl5IrigYQMHDU05QGigQCHDAQ8DWMTZkORQoiY6MIgo4MCFEyiIqn1pgkOCiBPjBkjgoIGDuw4WFJgoQEEECRH+SpAwofAECogpVFjMuIKFxxUgGJBLE0EDBpgbaLaL9+6Dz58hiB5NWnTg06gjQFgAtzKDBZk3ew5t+vTg24YNJ0bcuDGFBwhmZiAhIoTxDxw2ZLjAmMLqBQkMHjjIsfrVhQQ6Ipz+sWD36F/Xnv8okYEA5fN8G2LHjjUjAQgcSCBfqdYECAkYBxyIMEKFeKIoiIDBAXFdhNFDETDX229xDfDAckBFeAEGFFZIYQYYYqhBBhDMhJ4CKJ0U2l22DaZbYo09pqKEEmIwgQIeUnTAAjTCFhtnsz1QGgSplXgbYblNAEECHgLAAAQ6gvYZXnZphhmNJBmEUEJWrZcdRx6VZCNnDYS3lgkiXJAATTbdFFdSBAhkEmkMeLlWCA5QVGZNOGXU0J14DrDABSKQ0IGbLpkwwgYKtHagRldhxZedeLbmHgQUAtqSCRggAFEBDHSQAn0toZCWfH9ywMEFCGhF54ELSXrCCBRARAADIHD/+p9LAVawF3oBcICCCbz2CuYEHg6AgAdpzbqWCBKYhx5dmjFZFV8J8OgjkCfu1tgEDMRYIF14oaRXQ9EC9mNh1jKm4rkSVvCAtjSBmKOOowU2Lrm71ZtYkIdJwICyMtZoIwOb4fguvDtK26NgEkAAY7803ogjaPFOi1uQ9laA2JAzAeBuZ06+JlJ0UlK5UJ53bpTdRyE1DLCOETgQAQYWLIbYBIAhqeRlly3wcXQHIYQllRxdqd10JVHVgX8nmFACCSOI4HQIxX1AQQMGkOwQRPmRTEB3/2KWgKoukWABXHOaqRNEPCnQAAS3PQB2SyFAIGfZF+mUZ0YzZvDBBxe8/510BwugBwCZg2eNKHt3JnDBCPa9DSZ+lJFlKFeHj4z2AAlYEIKosrI1wgRZoeoRbFDqldSdWdWdEQIUpNR5oBoUupMBFHQwQgrFJg3Cnxw+QNVbpm6Vn0dgi2ABqghgYMLrLHnqKUskeCDBXmY3pGoJH0y2+gYqML/Wrhxki95DqiJLVgET3G4sUSRoMBmukpaAQbAIdPD8+i994AC7cW0wgnFOC6AGGDARAjzgA0sbgQIXuECmKZAEDlQgCCjAL8psjGME0koACtAA1MyrWihyjAUgcIDJ0YRZOGJAqQrYAMDIa2L0CmGKWsc/rXCrM6zBSbheSC0Zmutcj7nABJYWwD+NhUhEmFHAAtiGsGr1BogsilAEblWgjUGsNk2MoWJSBEQoXoAC4qtiZzqjJIJh8UdovM3BJOCAEhYIAa9RGcBkQ8YrFgyLPQJMA5DCMDnOUWBlvKPBJEaYCOyrj5i5Ubdog0dC4ms3EmhAkeD4LzqKiDQe/CAIt9ibCexRKwcYiRJrlEhLioiRmMxjGgfjgLcAICAAOw==\"><title>Layer: pool2 'MaxPooling2D'\n",
       "Actual minmax: (0.0, 1.0)\n",
       "Shape = (None, 50, 50, 64)</title></image><text x=\"305.0\" y=\"497.0\" font-family=\"monospace\" font-size=\"12\" text-anchor=\"start\" fill=\"blue\" alignment-baseline=\"central\" >pool2</text><text x=\"305.0\" y=\"400\" font-family=\"monospace\" font-size=\"12\" text-anchor=\"start\" fill=\"black\" alignment-baseline=\"central\" >64</text><text x=\"83.0\" y=\"590\" font-family=\"monospace\" font-size=\"12\" text-anchor=\"start\" fill=\"black\" alignment-baseline=\"central\" >0</text><path d=\"M 200.0 624 L 200.0 597 \" stroke=\"black\" stroke-width=\"2\" marker-end=\"url(#arrow)\" fill=\"none\" /><rect x=\"99.0\" y=\"624\" width=\"202\" height=\"202\" style=\"fill:none;stroke:black;stroke-width:2\"/><image id=\"keras-network_conv4\" class=\"keras-network\" x=\"100.0\" y=\"625\" height=\"200\" width=\"200\" preserveAspectRatio=\"none\" image-rendering=\"optimizeSpeed\" xlink:href=\"data:image/gif;base64,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\"><title>Layer: conv4 'Conv2D'\n",
       "Act function: relu\n",
       "Act output range: (0.0, +Infinity)\n",
       "Actual minmax: (0.0, 1.0)\n",
       "Shape = (None, 100, 100, 64)</title></image><text x=\"305.0\" y=\"727.0\" font-family=\"monospace\" font-size=\"12\" text-anchor=\"start\" fill=\"blue\" alignment-baseline=\"central\" >conv4</text><text x=\"305.0\" y=\"630\" font-family=\"monospace\" font-size=\"12\" text-anchor=\"start\" fill=\"black\" alignment-baseline=\"central\" >64</text><text x=\"83.0\" y=\"820\" font-family=\"monospace\" font-size=\"12\" text-anchor=\"start\" fill=\"black\" alignment-baseline=\"central\" >0</text><path d=\"M 200.0 854 L 200.0 827 \" stroke=\"black\" stroke-width=\"2\" marker-end=\"url(#arrow)\" fill=\"none\" /><rect x=\"99.0\" y=\"854\" width=\"202\" height=\"202\" style=\"fill:none;stroke:black;stroke-width:2\"/><image id=\"keras-network_conv3\" class=\"keras-network\" x=\"100.0\" y=\"855\" height=\"200\" width=\"200\" preserveAspectRatio=\"none\" image-rendering=\"optimizeSpeed\" xlink:href=\"data:image/gif;base64,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\"><title>Layer: conv3 'Conv2D'\n",
       "Act function: relu\n",
       "Act output range: (0.0, +Infinity)\n",
       "Actual minmax: (0.0, 1.0)\n",
       "Shape = (None, 100, 100, 64)</title></image><text x=\"305.0\" y=\"957.0\" font-family=\"monospace\" font-size=\"12\" text-anchor=\"start\" fill=\"blue\" alignment-baseline=\"central\" >conv3</text><text x=\"305.0\" y=\"860\" font-family=\"monospace\" font-size=\"12\" text-anchor=\"start\" fill=\"black\" alignment-baseline=\"central\" >64</text><text x=\"83.0\" y=\"1050\" font-family=\"monospace\" font-size=\"12\" text-anchor=\"start\" fill=\"black\" alignment-baseline=\"central\" >0</text><path d=\"M 200.0 1084 L 200.0 1057 \" stroke=\"black\" stroke-width=\"2\" marker-end=\"url(#arrow)\" fill=\"none\" /><rect x=\"174.0\" y=\"1084\" width=\"52\" height=\"102\" style=\"fill:none;stroke:black;stroke-width:2\"/><image id=\"keras-network_dropout\" class=\"keras-network\" x=\"175.0\" y=\"1085\" height=\"100\" width=\"50\" preserveAspectRatio=\"none\" image-rendering=\"optimizeSpeed\" xlink:href=\"data:image/gif;base64,R0lGODdhAQACAIEAAP8AAAAAAAAAAAAAACwAAAAAAQACAAAIBQABAAgIADs=\"><title>Layer: dropout 'Dropout'\n",
       "Actual minmax: (0.0, 1.0)\n",
       "Shape = (None, 100, 100, 32)</title></image><text x=\"230.0\" y=\"1137.0\" font-family=\"monospace\" font-size=\"12\" text-anchor=\"start\" fill=\"blue\" alignment-baseline=\"central\" >dropout</text><path d=\"M 200.0 1214 L 200.0 1187 \" stroke=\"black\" stroke-width=\"2\" marker-end=\"url(#arrow)\" fill=\"none\" /><rect x=\"99.0\" y=\"1214\" width=\"202\" height=\"202\" style=\"fill:none;stroke:black;stroke-width:2\"/><image id=\"keras-network_pool1\" class=\"keras-network\" x=\"100.0\" y=\"1215\" height=\"200\" width=\"200\" preserveAspectRatio=\"none\" image-rendering=\"optimizeSpeed\" xlink:href=\"data:image/gif;base64,R0lGODdhZABkAIUAAAAAAAEBAQICAgMDAwQEBAUFBQYGBgcHBwgICAkJCQoKCgsLCwwMDA0NDQ4ODg8PDxAQEBERERISEhMTExQUFBUVFRYWFhcXFxgYGBkZGRoaGhsbGxwcHB0dHR4eHh8fHyAgICEhISIiIiMjIyQkJCUlJSYmJicnJygoKCkpKSoqKisrKywsLDExMTMzMzQ0NDY2NgAAAAAAAAAAAAAAAAAAAAAAAAAAAAAAAAAAAAAAAAAAAAAAAAAAAAAAAAAAACwAAAAAZABkAEAI/wABCBAwYOCAgwcHKlzIsGHDABADCIgYcSJEixQHXtRosGNHhCAHECBQ0OLHBREAZJggoWVLCA8cNGiwoKYCBQkS3Nx5c4GCmjUbOABKlGfOnAgQHDhggGlTA08LQIVagECBq1izjhxZ9erWr1YLHFgA4MMGDhvSql3Ltq1aDiw2ECDIMCPFi3fzSnTIt2RJgiINMJAp1MGDBxM6lD3rtvFatGdNqFBAkm9GhXg1Zr4cUuTWg2A7gw7bwQMHEi7KcoDsuLGHFJQR8nVIYMEDBgcQMGhgAHECkgkdig6utyFCqwRCLGbdem0HFCco9yVZIQPz5tivj5D7d+Nek98NDv8wsBy7WhApPhiozPAggLPXzct3a6JCcMt9AUCAebj/g/0RBBggBRX8tlBFAxUQAYEVVGCBBQ1C+OCDF1xgQYUXYIBBBhloyKEGGYD4IYchfqjBiSEo8NdsDREAgE889QSUAxDEdiBFACSwAAM88jjTj0AW5sCQRA7p35FI7vfffkxCYEEDLNIGAAM7EWXljjUlcIACPe62W5BCFmkYkv41aeaZEUAgoJoCtlldAVEq5CKMMdaJk502Xalnl3z26WePM/nYQJdgAhkBlFG6qEBSCBzl6KM62fmTnkAxsCOPl/6paaGcAikmjQ/MJeWikB6F56RXWtpnpzMNGeansJL/Keth/PknwQNwyjmlpj1iWRRORyW1lFMGXFVsV2F9NtJwIdFlnLFSNZVboznJSOhMEGCgWnzzqaUBCCU4YIBDepWL0WVxLjSAWExFqlOwRzEAQXndtnXaCus9VO6+xRnH7L8iAXABBxxi8AEL9NbLgQfQZSBduhAfqO5xni37WV+jVaWBCS8knJ1aH6zAAXD5OfhWdqultRJNMG45gQP38YugeOsi4HF2J6xQwIrqvsdYvQp/YEID7NWFGV8ugpDyyfZy8EF6BtzH0QA+cwv0fBykEAHPEM8p6U+TyssA1xvlyOegX3IK66ezynrBARHrSiVPeQIFwbgIBgDAlteq/11kTIeNKSuTtJ5puJorxe2ipaimummQaws+uJKHV66m5ftVgICzsylK7aOfm/q1jJRaWimvqPvoJZCCgkkj3J0DsCijCYRe7Z0xUkrUqmezWmjka8saAcwtAjCUTTe9W7uwxE6VVVVgATccYFxP7BlWUA07LbWNZ9qrTwsUBoEEijVwZ7ULRFqp911mauVOjiql/VTOP98V9J8BTBdoVw1LOwI/cUAFVPOztYAIAxeoAAUmwBKXtOQBP2JABCSggAMULW7tadbErCKtpUxlWPSjn/YS4ICbXS1rJ4iaxGTGQomEJ27r2pJQIuilCGTAhEALGQREpa8W9stfCkkIwP9EMgAHDG9QDZjABnDYrQ6kIIVkcyFHwHOuHxYEYPkTjVUC4AGznCY1XrwaY9DzgZ3NZiMQ2wsajxM9knBlWUIECVcGsAEPoIaJzQEBCkCwgANUbzZXBI0GWfSvyuTFeiKpygdggMfWcGAFG5BNnCZ4AfhAhjVouQAFFbAeLYJEM/syiXi4QpYwYo0DzzGBBasnEgFEoIAKW40smdOBCJgRlHZBF2AIcIBG2gs9DvCjcAqSAViKsTGQIYEFpHYjzTzLl2whAQo0x0oBkM9qx3QLWkwwgnyRK1HQVIsJWFAsZu5Pltms1wlU+UdwhhGdS4OnCUzQye4oBAAT0MDPrLb/tMegJWUAxWZa0nPBh0hpbqQjXU0Mg4AV5W1XfUub61oFPMBZlEwX2Fo7kfair1UKAjBzaEUAoBtCSfR3wJNc2/oDEwVu9IUCWJykgBKTC+KIAD8R1ElnGLmVlmlJMDmcBC6QK4hRDaHdWx9JIAKAABhAR4ByXfDa1iSgHi5NAAoQmyCQgQTghyEyBd+eLsU+v011cphLU5vWytYAYSACLPqOTJPqK0z5KVAnJYxMIjdD3/nVd2riYexwYrvalcqjCt3d6VLHWLT1DYlAeoBXDQoRzyUFKZh9VPJmqruamI6sqWNf61rHKpkESLBglR2jCqvZmdIVS6hzLGR3qrZX/wEvAqEaFe0Oe6rSbYq2KE3p33xaph22JwCkKlWkcqe7P5VWuEYiLksttyTc3nJxIHzKsfCHnK+wcYjMoh6zwIK9aGVvKfJbrbCyl5QqOUBbg4LtZ5GXPKTIT1pUoUqyQjM9wESJf9jT3mXRt1i8ou0BF+go6VTFJ/fpCX5ImR+x7NdGNw7RX2Hp4Paq1CME49MB30tftW6n0F7Z1bPxpW99GaU9pjjlAFoJC3crHBrprYu9RymhWQ4IoQYGSAIT0CphMOUTR4VtAepdrQdDaD/8ZUwq5q0fVaLV5CgXC4AAUJojYakBBFpggRRoCQU+QIFyTuRoFZGZKIMYp8Cct/9R8kOvUuSnAB0b84QmSAGMJVZFNR8SgwYhAFQQ4CvkLXSAH+jnMR8ZgqJixof8AnR7BD0YMR0mMeFsTgdYcIG58CyXkIapePzVLJAYgEsSjYAGMu0YDohgMqgNdaRJDV421maBDFRiCViNzHGqsC6ytqJ4ax2SkURAy1/kNVtWE4IUZODXRjsaFQ95l48UW3reDSQbCzDmDmzgjqYEmixRgAJo68tooj7zmuUYvYrBUdsIucoEPGBHMN55Ph44wQnuZk5pA/o7tq4xcnjWmas44APgvnd2UpCCDTBgXBHjWjtfeO3vNpNmB7nKAkzAyHB3q9kQaOhGEekVrghAKv7/BWR4f4jxqzygBcoWZwSW9d+JGEACC9xQBXD+ZQV+yY9xxPgn+2yXIGZsAjE/iwo+IEly3TwCFtDnLP859dWsxCYw/gr0RBrK8PAvAbxOmQlQEKp+j8RnYkTnAXc+1AtErSQtzCAvw86BEpzAAsI0DkkMUEyBmiegAO2Aih6tRhfqEjDk8bh5PoACDyTgjwMIgAP6ns7WhKAEY8PPd2C6LmWHAF+oDWIAlKjoytMnBObefOGnOBAXKb45rylB3jNoAPiYfssmwEDoI+Z6hWuT3DD+dEwDgIEO+L3ykMl3A0Yeu9c7pgQq4E3TxQMAb99ePinwQEGjXbxEHx8+KFBB/1WEH3kKoPP6eVTB45nffYBqkzF1R0EDdvZHAqTl+8vO/5bvj4JOsx+sA9AhG1IwA6ghBlhMHUABs8d6AmABGHAiEDgiEQiBInIiaUGBzaFP8FECIuBo31Q8c9NZdkM8N7IXsgMowEUYFGVbY6JSxdUmF7AA/7cQXuNRdgMBUpM3AfA4z1VRxEUBFrB9cVWDeDIj/FaCJshgwAU5wiVdtPIAFuAAgEaEdeJZhwF0hEcRotWDweOCK9Ukb8M5cTJXVVgT+zES5wYAtaE6S8iCTlhch3MBFDCDMTUlnLUAhiEq3qE3BwBVbbhXZ/WFQYU5EBCDM0iGrzUUzqQ3BYBqnf+iV8PlU4NoVYQYIG/yf4iYVKazfuwCVZAlVWxDVYTIJGuyVW2CARLAfSAINqVTV6sSXKGIVpajVWvFJm3VVV1jh0ChiaIVVUxoaV4Ih1dli2xFjGvVILvHeosjVlZiOrzzO27YH8H4U9ToH64CiETSVzMhAYgCTswoguvTXIw1jqtDWkjki4UiAZsDTsCiXJBig+DYi+TYO18yWp/4Hx74QopiWKDzjpz1WmQlj/MYVWw4W0ECUuy4W/BiKu5yh63ojAP5imhDQ51yKCxiWdSSkf64XHQDjqoikKnzV9DYABGgAIO1Wu4oOkXYXCDJKyL5i7ASAZNVPLMzYO7YWyxk6ZKf+JI/AonAqFIRsI6pVZOZZWQO6Tg6+VfXCF3T6B8ySZPLw1s4qVjO1YYw2VMt+IVI8pQ0qFrK5Vq+JZFm1YQXRVWUSDi0cih/MRfbI5VVsieP5Sk9JYmV2FZ2uSYLwBEBAQA7\"><title>Layer: pool1 'MaxPooling2D'\n",
       "Actual minmax: (0.0, 1.0)\n",
       "Shape = (None, 100, 100, 32)</title></image><text x=\"305.0\" y=\"1317.0\" font-family=\"monospace\" font-size=\"12\" text-anchor=\"start\" fill=\"blue\" alignment-baseline=\"central\" >pool1</text><text x=\"305.0\" y=\"1220\" font-family=\"monospace\" font-size=\"12\" text-anchor=\"start\" fill=\"black\" alignment-baseline=\"central\" >32</text><text x=\"83.0\" y=\"1410\" font-family=\"monospace\" font-size=\"12\" text-anchor=\"start\" fill=\"black\" alignment-baseline=\"central\" >0</text><path d=\"M 200.0 1444 L 200.0 1417 \" stroke=\"black\" stroke-width=\"2\" marker-end=\"url(#arrow)\" fill=\"none\" /><rect x=\"99.0\" y=\"1444\" width=\"202\" height=\"202\" style=\"fill:none;stroke:black;stroke-width:2\"/><image id=\"keras-network_conv2\" class=\"keras-network\" x=\"100.0\" y=\"1445\" height=\"200\" width=\"200\" preserveAspectRatio=\"none\" image-rendering=\"optimizeSpeed\" xlink:href=\"data:image/gif;base64,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\"><title>Layer: conv2 'Conv2D'\n",
       "Act function: relu\n",
       "Act output range: (0.0, +Infinity)\n",
       "Actual minmax: (0.0, 1.0)\n",
       "Shape = (None, 200, 200, 32)</title></image><text x=\"305.0\" y=\"1547.0\" font-family=\"monospace\" font-size=\"12\" text-anchor=\"start\" fill=\"blue\" alignment-baseline=\"central\" >conv2</text><text x=\"305.0\" y=\"1450\" font-family=\"monospace\" font-size=\"12\" text-anchor=\"start\" fill=\"black\" alignment-baseline=\"central\" >32</text><text x=\"83.0\" y=\"1640\" font-family=\"monospace\" font-size=\"12\" text-anchor=\"start\" fill=\"black\" alignment-baseline=\"central\" >0</text><path d=\"M 200.0 1674 L 200.0 1647 \" stroke=\"black\" stroke-width=\"2\" marker-end=\"url(#arrow)\" fill=\"none\" /><rect x=\"99.0\" y=\"1674\" width=\"202\" height=\"202\" style=\"fill:none;stroke:black;stroke-width:2\"/><image id=\"keras-network_conv1\" class=\"keras-network\" x=\"100.0\" y=\"1675\" height=\"200\" width=\"200\" preserveAspectRatio=\"none\" image-rendering=\"optimizeSpeed\" xlink:href=\"data:image/gif;base64,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\"><title>Layer: conv1 'Conv2D'\n",
       "Act function: relu\n",
       "Act output range: (0.0, +Infinity)\n",
       "Actual minmax: (0.0, 1.0)\n",
       "Shape = (None, 200, 200, 32)</title></image><text x=\"305.0\" y=\"1777.0\" font-family=\"monospace\" font-size=\"12\" text-anchor=\"start\" fill=\"blue\" alignment-baseline=\"central\" >conv1</text><text x=\"305.0\" y=\"1680\" font-family=\"monospace\" font-size=\"12\" text-anchor=\"start\" fill=\"black\" alignment-baseline=\"central\" >32</text><text x=\"83.0\" y=\"1870\" font-family=\"monospace\" font-size=\"12\" text-anchor=\"start\" fill=\"black\" alignment-baseline=\"central\" >0</text><path d=\"M 200.0 1904 L 200.0 1877 \" stroke=\"black\" stroke-width=\"2\" marker-end=\"url(#arrow)\" fill=\"none\" /><rect x=\"99.0\" y=\"1904\" width=\"202\" height=\"202\" style=\"fill:none;stroke:black;stroke-width:2\"/><image id=\"keras-network_conv1_input\" class=\"keras-network\" x=\"100.0\" y=\"1905\" height=\"200\" width=\"200\" preserveAspectRatio=\"none\" image-rendering=\"optimizeSpeed\" xlink:href=\"data:image/gif;base64,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\"><title>Layer: conv1_input 'InputLayer'\n",
       "Actual minmax: (0.0, 1.0)\n",
       "Shape = [(None, 200, 200, 1)]</title></image><text x=\"305.0\" y=\"2007.0\" font-family=\"monospace\" font-size=\"12\" text-anchor=\"start\" fill=\"blue\" alignment-baseline=\"central\" >conv1_input</text><text x=\"200.0\" y=\"12.5\" font-family=\"monospace\" font-size=\"15\" text-anchor=\"middle\" fill=\"black\" alignment-baseline=\"central\" >Activations for sequential</text></svg></g></svg>"
      ],
      "text/plain": [
       "<IPython.core.display.HTML object>"
      ]
     },
     "metadata": {},
     "output_type": "display_data"
    }
   ],
   "source": [
    "from time import sleep\n",
    "for i in range(10):\n",
    "    net.propagate(train_x_normalized[i])\n",
    "    net.display(train_x_normalized[i])\n",
    "    sleep(1.0)"
   ]
  },
  {
   "cell_type": "markdown",
   "id": "1bddec14",
   "metadata": {},
   "source": [
    "# Train the model"
   ]
  },
  {
   "cell_type": "code",
   "execution_count": null,
   "id": "e422a8e7",
   "metadata": {},
   "outputs": [],
   "source": [
    "history = net.fit(train_x_normalized, \n",
    "                  train_y_category, \n",
    "                  verbose=1,\n",
    "                  validation_data=(test_x_normalized, \n",
    "                                   test_y_category),\n",
    "                  epochs=25)"
   ]
  },
  {
   "cell_type": "markdown",
   "id": "e87ddbfe",
   "metadata": {},
   "source": [
    "# Inspect the feature maps\n"
   ]
  },
  {
   "cell_type": "code",
   "execution_count": null,
   "id": "268f7fa1",
   "metadata": {
    "tags": []
   },
   "outputs": [],
   "source": [
    "test_image = 10 # change this to see a different image "
   ]
  },
  {
   "cell_type": "code",
   "execution_count": null,
   "id": "6d22c12a",
   "metadata": {},
   "outputs": [],
   "source": [
    "from math import ceil\n",
    "for layer in [\"conv1\", \"conv2\", \"pool1\", \"conv3\", \"conv4\", \"pool2\"]:\n",
    "    data = [net.propagate_to(test_x_normalized[test_image], layer, channel=channel)\n",
    "            for channel in range(8)]\n",
    "    largest = max([sublist.max() for sublist in data])\n",
    "    net.set_config_layer(layer, colormap=(\"gray\", 0, ceil(largest)))"
   ]
  },
  {
   "cell_type": "code",
   "execution_count": null,
   "id": "b6a2ce80",
   "metadata": {},
   "outputs": [],
   "source": [
    "images = [net.propagate_to(test_x_normalized[test_image], \"conv1\", \"image\", channel=channel)\n",
    "         for channel in range(8)]\n",
    "original = test_x_normalized[test_image]\n",
    "bigger = [image.resize((200,200),resample=0) for image in images]\n",
    "gallery([original] + bigger, labels=\"channel{index}\", gallery_shape=(9,1))"
   ]
  },
  {
   "cell_type": "code",
   "execution_count": null,
   "id": "a668b229-168d-49aa-aca4-9f2aefdb55a4",
   "metadata": {},
   "outputs": [],
   "source": [
    "images = [net.propagate_to(test_x_normalized[test_image], \"conv2\", \"image\", channel=channel)\n",
    "         for channel in range(8)]\n",
    "original = test_x_normalized[test_image]\n",
    "bigger = [image.resize((200,200),resample=0) for image in images]\n",
    "gallery([original] + bigger, labels=\"channel{index}\", gallery_shape=(9,1))"
   ]
  },
  {
   "cell_type": "code",
   "execution_count": null,
   "id": "9a807c76",
   "metadata": {},
   "outputs": [],
   "source": [
    "images = [net.propagate_to(test_x_normalized[test_image], \"pool1\", \"image\", channel=channel)\n",
    "         for channel in range(8)]\n",
    "original = test_x_normalized[test_image]\n",
    "bigger = [image.resize((200,200),resample=0) for image in images]\n",
    "gallery([original] + bigger, labels=\"channel{index}\", gallery_shape=(9,1))"
   ]
  },
  {
   "cell_type": "code",
   "execution_count": null,
   "id": "7268e51d-8d4b-4bd9-ab99-a37a2c38068e",
   "metadata": {},
   "outputs": [],
   "source": [
    "images = [net.propagate_to(test_x_normalized[test_image], \"conv3\", \"image\", channel=channel)\n",
    "         for channel in range(8)]\n",
    "original = test_x_normalized[test_image]\n",
    "bigger = [image.resize((200,200),resample=0) for image in images]\n",
    "gallery([original] + bigger, labels=\"channel{index}\", gallery_shape=(9,1))"
   ]
  },
  {
   "cell_type": "code",
   "execution_count": null,
   "id": "6b56ef59-0444-4ba1-8fdc-7e84954b7d06",
   "metadata": {},
   "outputs": [],
   "source": [
    "images = [net.propagate_to(test_x_normalized[test_image], \"conv4\", \"image\", channel=channel)\n",
    "         for channel in range(8)]\n",
    "original = test_x_normalized[test_image]\n",
    "bigger = [image.resize((200,200),resample=0) for image in images]\n",
    "gallery([original] + bigger, labels=\"channel{index}\", gallery_shape=(9,1))"
   ]
  },
  {
   "cell_type": "code",
   "execution_count": null,
   "id": "b130eb4b-2528-4609-bdf4-1bcef474917a",
   "metadata": {},
   "outputs": [],
   "source": [
    "images = [net.propagate_to(test_x_normalized[test_image], \"pool2\", \"image\", channel=channel)\n",
    "         for channel in range(8)]\n",
    "original = test_x_normalized[test_image]\n",
    "bigger = [image.resize((200,200),resample=0) for image in images]\n",
    "gallery([original] + bigger, labels=\"channel{index}\", gallery_shape=(9,1))"
   ]
  },
  {
   "cell_type": "markdown",
   "id": "87b0c661",
   "metadata": {
    "tags": []
   },
   "source": [
    "# Examine the results\n",
    "Check which inputs the network is getting wrong. Recall that there are 10 thousand test images."
   ]
  },
  {
   "cell_type": "code",
   "execution_count": null,
   "id": "6f01f30d",
   "metadata": {},
   "outputs": [],
   "source": [
    "from numpy import argmax\n",
    "outputs = net.predict(test_x_normalized)\n",
    "answers = [argmax(output) for output in outputs]\n",
    "targets = [argmax(target) for target in test_y_category]"
   ]
  },
  {
   "cell_type": "code",
   "execution_count": null,
   "id": "7014ddfc",
   "metadata": {},
   "outputs": [],
   "source": [
    "incorrect = [i for i in range(len(answers)) if answers[i] != targets[i]]\n",
    "len(incorrect)"
   ]
  },
  {
   "cell_type": "code",
   "execution_count": null,
   "id": "a4587a49",
   "metadata": {},
   "outputs": [],
   "source": [
    "missed_target = [targets[i] for i in incorrect]\n",
    "wrong_answer = [answers[i] for i in incorrect]"
   ]
  },
  {
   "cell_type": "markdown",
   "id": "29fa5b18",
   "metadata": {},
   "source": [
    "Let's find out which target classifications are most frequently missed."
   ]
  },
  {
   "cell_type": "code",
   "execution_count": null,
   "id": "dbec4331",
   "metadata": {},
   "outputs": [],
   "source": [
    "from collections import Counter"
   ]
  },
  {
   "cell_type": "code",
   "execution_count": null,
   "id": "562317fa",
   "metadata": {},
   "outputs": [],
   "source": [
    "t_ctr = Counter(missed_target)\n",
    "t_ctr.most_common()"
   ]
  },
  {
   "cell_type": "markdown",
   "id": "54814875",
   "metadata": {},
   "source": [
    "Let's find out which wrong classification is most frequently given."
   ]
  },
  {
   "cell_type": "code",
   "execution_count": null,
   "id": "6d9fdfe7",
   "metadata": {},
   "outputs": [],
   "source": [
    "a_ctr = Counter(wrong_answer)\n",
    "a_ctr.most_common()"
   ]
  },
  {
   "cell_type": "code",
   "execution_count": null,
   "id": "bbdca0ad",
   "metadata": {},
   "outputs": [],
   "source": [
    "images = [array_to_image(test_x[index]) for index in incorrect]\n",
    "label = [str(missed_target[i]) + \",\" + str(wrong_answer[i]) for i in range(len(wrong_answer))]\n",
    "gallery(images, labels=label)"
   ]
  },
  {
   "cell_type": "code",
   "execution_count": null,
   "id": "ba358132",
   "metadata": {},
   "outputs": [],
   "source": []
  },
  {
   "cell_type": "code",
   "execution_count": null,
   "id": "a8c3fc6d",
   "metadata": {},
   "outputs": [],
   "source": []
  }
 ],
 "metadata": {
  "kernelspec": {
   "display_name": "Python 3 (ipykernel)",
   "language": "python",
   "name": "python3"
  },
  "language_info": {
   "codemirror_mode": {
    "name": "ipython",
    "version": 3
   },
   "file_extension": ".py",
   "mimetype": "text/x-python",
   "name": "python",
   "nbconvert_exporter": "python",
   "pygments_lexer": "ipython3",
   "version": "3.10.6"
  },
  "widgets": {
   "application/vnd.jupyter.widget-state+json": {
    "state": {},
    "version_major": 2,
    "version_minor": 0
   }
  }
 },
 "nbformat": 4,
 "nbformat_minor": 5
}
