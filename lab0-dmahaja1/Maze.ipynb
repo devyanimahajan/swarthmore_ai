{
 "cells": [
  {
   "cell_type": "code",
   "execution_count": 1,
   "id": "ac054a25",
   "metadata": {},
   "outputs": [
    {
     "data": {
      "text/plain": [
       "'0.9.43'"
      ]
     },
     "execution_count": 1,
     "metadata": {},
     "output_type": "execute_result"
    }
   ],
   "source": [
    "import aitk.robots\n",
    "from aitk.utils import Grid\n",
    "aitk.robots.__version__"
   ]
  },
  {
   "cell_type": "markdown",
   "id": "5925d0b6-86aa-4c17-aecc-4ac954cb077a",
   "metadata": {},
   "source": [
    "# Maze robot\n",
    "\n",
    "One approach for solving a maze is called the *right-hand rule*.  You continually follow the wall on your right-hand side, and eventually, if there is an exit, you will find your way out.  We will be trying to implement this with a robot, therefore our robot will need to be able to sense walls on its right side as well as walls in front. The robot has been given two RangeSensors on its right side, one close to the front and the other close to the rear.  The robot has also been given one RangeSensor centered on its front.  The robot has been given one LightSensor so that it can detect when the goal has been found."
   ]
  },
  {
   "cell_type": "code",
   "execution_count": 2,
   "id": "017b8427",
   "metadata": {},
   "outputs": [],
   "source": [
    "robot = aitk.robots.Scribbler(x=20, y=180, a=87, max_trace_length=60)\n",
    "robot.add_device(aitk.robots.RangeSensor(position=(6,0),max=20,a=0,width=57.3,name=\"f-ir\"))\n",
    "robot.add_device(aitk.robots.RangeSensor(position=(6,5),max=30,a=270,width=57.3,name=\"rf-ir\"))\n",
    "robot.add_device(aitk.robots.RangeSensor(position=(-6,5),max=30,a=270,width=57.3,name=\"rb-ir\"))\n",
    "robot.add_device(aitk.robots.LightSensor(position=(6,0),name=\"light-sensor\"))"
   ]
  },
  {
   "cell_type": "markdown",
   "id": "f71898c7-6cd5-4d6c-8306-8cef06cbdb17",
   "metadata": {},
   "source": [
    "# Maze world\n",
    "\n",
    "The following code creates a maze where the exit is denoted by a bulb in the lower right corner of the world. The robot's goal is to reach this light source when starting from the lower left corner of the world."
   ]
  },
  {
   "cell_type": "code",
   "execution_count": 3,
   "id": "cebf0703",
   "metadata": {},
   "outputs": [
    {
     "name": "stdout",
     "output_type": "stream",
     "text": [
      "Random seed set to: 9026240\n"
     ]
    }
   ],
   "source": [
    "maze_world = aitk.robots.World(width=400, height=200, scale=2.0)\n",
    "maze_world.add_bulb(\"yellow\", 380, 180, 0, 100)\n",
    "maze_world.add_wall(\"blue\", 45, 200, 50, 50)\n",
    "maze_world.add_wall(\"blue\", 95, 0, 100, 75)\n",
    "maze_world.add_wall(\"blue\", 95, 200, 100, 125)\n",
    "maze_world.add_wall(\"blue\", 145, 50, 150, 150)\n",
    "maze_world.add_wall(\"blue\", 145, 150, 350, 145)\n",
    "maze_world.add_wall(\"blue\", 145, 45, 350, 50)\n",
    "maze_world.add_wall(\"blue\", 200, 95, 400, 100)\n",
    "#Comment out the wall below to make a shorter path to the exit\n",
    "maze_world.add_wall(\"blue\", 345, 150, 350, 400)\n",
    "\n",
    "maze_world.add_robot(robot)\n",
    "maze_world.update()\n",
    "maze_world.save()"
   ]
  },
  {
   "cell_type": "code",
   "execution_count": 4,
   "id": "7fc882d8",
   "metadata": {},
   "outputs": [
    {
     "data": {
      "application/vnd.jupyter.widget-view+json": {
       "model_id": "07c08037507542b189337bb8b12c8ab2",
       "version_major": 2,
       "version_minor": 0
      },
      "text/plain": [
       "Image(value=b'\\xff\\xd8\\xff\\xe0\\x00\\x10JFIF\\x00\\x01\\x01\\x00\\x00\\x01\\x00\\x01\\x00\\x00\\xff\\xdb\\x00C\\x00\\x08\\x06\\x0…"
      ]
     },
     "metadata": {},
     "output_type": "display_data"
    }
   ],
   "source": [
    "maze_world.watch()"
   ]
  },
  {
   "cell_type": "markdown",
   "id": "683a12b7-53aa-46ff-b24c-5ce1ae4f4f16",
   "metadata": {},
   "source": [
    "# Maze controller\n",
    "Below is the start to a controller for traversing the maze.  You need to finish this. Your goal is to try to have the robot follow the wall on its right hand side until its LightSensor senses that the bulb is very close (the light reading should be greater than 0.9).  \n",
    "\n",
    "For debugging purposes, it may be helpful to have the robot speak its RangeSensor readings.  This should make it easier to figure out how to ensure that the robot follows the wall, without getting too close or too far away from it.  \n",
    "\n",
    "A good strategy is to add one or two new cases to the if-else statement at a time and test them. For example:\n",
    "- You could start by adding a case to handle when the front RangeSensor is triggered.\n",
    "- Next you could add a case to handle when the right RangeSensors are not sensing a wall at all. \n",
    "- You'll likely want to have cases to handle if either the nose or the rear of the robot gets too close to the wall.\n"
   ]
  },
  {
   "cell_type": "code",
   "execution_count": 38,
   "id": "28d89c03-195a-42b4-ac5d-585b8718202e",
   "metadata": {},
   "outputs": [],
   "source": [
    "def traverse_maze(robot):\n",
    "    if robot.stalled:\n",
    "        robot.speak(\"STUCK\")\n",
    "        return True\n",
    "    #if light found\n",
    "    elif robot[\"light-sensor\"].get_brightness() > 0.9:\n",
    "        robot.speak(\"FOUND LIGHT\")\n",
    "        return True\n",
    "    elif robot[\"f-ir\"].get_distance() < robot[\"f-ir\"].get_max():\n",
    "        robot.speak(\"Front close %.1f\" % (robot[\"f-ir\"].get_distance()))\n",
    "        robot.move(-0.3,0)\n",
    "        if robot[\"rf-ir\"].get_distance() < 10 and robot[\"rb-ir\"].get_distance() < 10 and robot[\"f-ir\"].get_distance() < 10:\n",
    "            robot.move(0.5,0.5)\n",
    "        elif robot[\"rf-ir\"].get_distance() > 10 and robot[\"rb-ir\"].get_distance() > 10:\n",
    "            robot.move(0,-0.3)\n",
    "        else:\n",
    "            robot.move(0.5,0.3)\n",
    "    elif robot[\"rf-ir\"].get_distance() > 20 and robot[\"rb-ir\"].get_distance() > 20:\n",
    "        robot.speak(\"Wall turn %.1f %.1f\" % (robot[\"rf-ir\"].get_distance(),robot[\"rb-ir\"].get_distance()))\n",
    "        robot.move(0.5,-0.3)\n",
    "       \n",
    "    else:\n",
    "        robot.speak(\"Forward\")\n",
    "        robot.move(1.0, 0) "
   ]
  },
  {
   "cell_type": "code",
   "execution_count": 39,
   "id": "d5adc611",
   "metadata": {},
   "outputs": [
    {
     "name": "stdout",
     "output_type": "stream",
     "text": [
      "Using random seed: 9026240\n"
     ]
    },
    {
     "data": {
      "application/json": {
       "ascii": false,
       "bar_format": null,
       "colour": null,
       "elapsed": 0.017424345016479492,
       "initial": 0,
       "n": 0,
       "ncols": null,
       "nrows": 48,
       "postfix": null,
       "prefix": "",
       "rate": null,
       "total": null,
       "unit": "it",
       "unit_divisor": 1000,
       "unit_scale": false
      },
      "application/vnd.jupyter.widget-view+json": {
       "model_id": "4d6b886a59764943b7b83e5e67c03085",
       "version_major": 2,
       "version_minor": 0
      },
      "text/plain": [
       "0it [00:00, ?it/s]"
      ]
     },
     "metadata": {},
     "output_type": "display_data"
    },
    {
     "name": "stdout",
     "output_type": "stream",
     "text": [
      "Simulation stopped at: 00:01:57.50; speed 0.99 x real time\n"
     ]
    },
    {
     "data": {
      "text/plain": [
       "True"
      ]
     },
     "execution_count": 39,
     "metadata": {},
     "output_type": "execute_result"
    }
   ],
   "source": [
    "maze_world.reset()\n",
    "maze_world.run([traverse_maze])"
   ]
  },
  {
   "cell_type": "markdown",
   "id": "9b4a1235-7770-46fe-b1f2-dfd35383d679",
   "metadata": {},
   "source": [
    "# Reflect on the robot controller\n",
    "\n",
    "In what ways is the `traverse_maze` controller **subsymbolic**? \n",
    "\n",
    "The controller is subsymbolic in that it has the robot react and respond to various stimuli and interact with its environment through its motion and sensors\n",
    "\n",
    "In what ways is it **symbolic**?\n",
    "\n",
    "The controller is symbolic in that it essentially comprises an algorithm for traversing the maze rather than having the robot learn and improve from its time in the maze"
   ]
  },
  {
   "cell_type": "markdown",
   "id": "d8f173ae-34df-4e5b-b907-5030f05ffb82",
   "metadata": {},
   "source": [
    "# Reflect on the robot environment\n",
    "\n",
    "From the perspective of the robot, is this maze world\n",
    "- fully or partially observable?\n",
    "- deterministic or stochastic?\n",
    "- static or dynamic?\n",
    "- discrete or continuous?\n",
    "\n",
    "Explain your reasoning behind each answer."
   ]
  },
  {
   "cell_type": "markdown",
   "id": "80c23a1f-e9af-4a88-9b77-3bc687c08a26",
   "metadata": {},
   "source": [
    "- The maze would be a partially observable environment as the robot does not have any knowledge of its layout prior to exploring it\n",
    "- The maze is deterministic as the robot has a set of generalised instructions with which it approaches the maze\n",
    "- The maze is static, as its layout and nature does not change over time\n",
    "- The maze is discrete, as it does not change and there are a finite (though large) number of possible ways in which the robot can approach it"
   ]
  }
 ],
 "metadata": {
  "kernelspec": {
   "display_name": "Python 3 (ipykernel)",
   "language": "python",
   "name": "python3"
  },
  "language_info": {
   "codemirror_mode": {
    "name": "ipython",
    "version": 3
   },
   "file_extension": ".py",
   "mimetype": "text/x-python",
   "name": "python",
   "nbconvert_exporter": "python",
   "pygments_lexer": "ipython3",
   "version": "3.10.4"
  }
 },
 "nbformat": 4,
 "nbformat_minor": 5
}
