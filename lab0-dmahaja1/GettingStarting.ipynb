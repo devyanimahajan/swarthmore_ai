{
 "cells": [
  {
   "cell_type": "markdown",
   "id": "771e27a4-9773-4608-91b8-e033059109dc",
   "metadata": {},
   "source": [
    "# Introduction\n",
    "\n",
    "This is an example of a Jupyter notebook where you can intermingle text with code.  A notebook is made up of a series of cells.  This first cell is an example of a markdown cell containing text. [Markdown](https://www.markdownguide.org/cheat-sheet/) provides a simple system for formatting text (adding headings, inserting links, using bold and underline, etc.). You can double click on this cell to see the underlaying markdown.\n",
    "\n",
    "The next cell (below) is a code cell.  You can use lots of different languages for the code cells.  We will be using Python3. To execute a cell (to run the code inside of it) you press SHIFT-ENTER. You can also use the same command on markdown cells to render the markdown.\n",
    "\n",
    "Typically the first code cell in a notebook imports all of the necessary python libraries. "
   ]
  },
  {
   "cell_type": "code",
   "execution_count": 2,
   "id": "8454fb3a",
   "metadata": {},
   "outputs": [
    {
     "data": {
      "text/plain": [
       "'0.9.43'"
      ]
     },
     "execution_count": 2,
     "metadata": {},
     "output_type": "execute_result"
    }
   ],
   "source": [
    "import aitk.robots\n",
    "aitk.robots.__version__"
   ]
  },
  {
   "cell_type": "markdown",
   "id": "4d4e126f-ec68-4eac-b288-44d927bb3ff1",
   "metadata": {},
   "source": [
    "### Devyani Mahajan\n",
    "- CPSC021\n",
    "- CPSC035\n",
    "- CPSC063\n",
    "- CPSC013"
   ]
  },
  {
   "cell_type": "markdown",
   "id": "9b826034-fe29-4888-bd7a-cf8696c61577",
   "metadata": {},
   "source": [
    "###  Exercise 1\n",
    "Insert a new cell above this one (by using the icon with a plus sign in the top right of this cell).  Then designate that cell to be *Markdown* (by toggling the *Code* designation to *Markdown* at the top of this notebook).  \n",
    "\n",
    "Then add your name as a heading. Under that heading list all of the CS courses you've taken so far at the College. Use a bulleted list."
   ]
  },
  {
   "cell_type": "markdown",
   "id": "0d481cbb",
   "metadata": {},
   "source": [
    "## Create a world\n",
    "\n",
    "A world is a rectangular area with a given width and height that may contain walls, bulbs, food, and robots. We will create a simple world with a bulb in the bottom right corner and a small wall next to it."
   ]
  },
  {
   "cell_type": "code",
   "execution_count": 13,
   "id": "33847468",
   "metadata": {},
   "outputs": [
    {
     "name": "stdout",
     "output_type": "stream",
     "text": [
      "Random seed set to: 6678281\n"
     ]
    }
   ],
   "source": [
    "simple_world = aitk.robots.World(width=200, height=200, scale=2.0)\n",
    "simple_world.add_bulb(\"yellow\", 180, 180, 0, 100)\n",
    "simple_world.add_wall(\"blue\", 150, 200, 155, 150)"
   ]
  },
  {
   "cell_type": "markdown",
   "id": "8b8e1a30",
   "metadata": {},
   "source": [
    "## Create a robot\n",
    "\n",
    "A robot can sense and act in the world.  A robot may have:\n",
    "- RangeSensors that return distances to obstacles in cm\n",
    "- LightSensors that return a brightness value in the range [0, 1]; light is blocked by walls\n",
    "- SmellSensors that return an odor value in the range [0, 1]; odor spreads around walls\n",
    "- Cameras that return images that include the walls, bulbs, food, and other robots in the world\n",
    "\n",
    "Below we create a robot with one RangeSensor in the center front and two LightSensors on the front left and right."
   ]
  },
  {
   "cell_type": "code",
   "execution_count": 14,
   "id": "4c669848",
   "metadata": {},
   "outputs": [],
   "source": [
    "robot = aitk.robots.Scribbler(x=20, y=180, a=45, max_trace_length=60)\n",
    "robot.add_device(aitk.robots.RangeSensor(position=(6,0),max=20,a=0,width=57.3,name=\"f-ir\"))\n",
    "robot.add_device(aitk.robots.LightSensor(position=(6,-5),name=\"left-light\"))\n",
    "robot.add_device(aitk.robots.LightSensor(position=(6,5),name=\"right-light\"))"
   ]
  },
  {
   "cell_type": "markdown",
   "id": "b368c95b",
   "metadata": {
    "tags": []
   },
   "source": [
    "## Add the robot to the world\n",
    "Once you have both a world and a robot, add the robot to the world, update the world, and save the world. Now you are ready to start writing a controller for the robot."
   ]
  },
  {
   "cell_type": "code",
   "execution_count": 15,
   "id": "36dbb3c8",
   "metadata": {},
   "outputs": [],
   "source": [
    "simple_world.add_robot(robot)\n",
    "simple_world.update()\n",
    "simple_world.save()"
   ]
  },
  {
   "cell_type": "markdown",
   "id": "063a0dc3",
   "metadata": {},
   "source": [
    "## Watch the world\n",
    "It is helpful to be able to watch the robot moving around the world in order to debug your controller."
   ]
  },
  {
   "cell_type": "code",
   "execution_count": 16,
   "id": "d52a4ea7",
   "metadata": {},
   "outputs": [
    {
     "data": {
      "application/vnd.jupyter.widget-view+json": {
       "model_id": "c70f89bf6cf7468c9688f92f2efb71dd",
       "version_major": 2,
       "version_minor": 0
      },
      "text/plain": [
       "Image(value=b'\\xff\\xd8\\xff\\xe0\\x00\\x10JFIF\\x00\\x01\\x01\\x00\\x00\\x01\\x00\\x01\\x00\\x00\\xff\\xdb\\x00C\\x00\\x08\\x06\\x0…"
      ]
     },
     "metadata": {},
     "output_type": "display_data"
    }
   ],
   "source": [
    "simple_world.watch()"
   ]
  },
  {
   "cell_type": "markdown",
   "id": "ffd1357c",
   "metadata": {},
   "source": [
    "## Create a controller\n",
    "A controller is a function that takes a robot as its only parameter. It returns True to end the simulation. It should check the state of the robot's sensors to choose an appropriate action. \n",
    "\n",
    "NOTE: It should **not** include loops because the underlying simulator will repeatedly execute the controller multiple times per second.\n",
    "\n",
    "Consult the aitk.robots cheat sheet for how to access the state of the robot's sensors and to make the robot move.\n",
    "\n",
    "Below is a simple controller meant to move the robot around the world, avoiding walls, and stopping when the light source is found. Notice that rather than using print statements to help with debugging, it is more fruitful to have the robot speak information to indicate what state it is in. "
   ]
  },
  {
   "cell_type": "code",
   "execution_count": 33,
   "id": "58c0b5bb",
   "metadata": {},
   "outputs": [],
   "source": [
    "def avoid_walls(robot):\n",
    "    if robot[\"left-light\"].get_brightness() + robot[\"right-light\"].get_brightness() > 1.9:\n",
    "        # found exit\n",
    "        robot.speak(\"Found light!\")\n",
    "        return True\n",
    "    elif robot[\"left-light\"].get_brightness() > robot[\"right-light\"].get_brightness():\n",
    "        robot.speak(\"Turn left\")\n",
    "        robot.move(0.5, +0.1)\n",
    "    elif robot[\"left-light\"].get_brightness() < robot[\"right-light\"].get_brightness(): \n",
    "        robot.speak(\"Turn right\")\n",
    "        robot.move(0.5, -0.1)\n",
    "    elif robot[\"f-ir\"].get_distance() < robot[\"f-ir\"].get_max():\n",
    "        # avoid wall ahead\n",
    "        robot.speak(\"Avoid\")\n",
    "        robot.move(0.1, -0.3)\n",
    "    else:\n",
    "        robot.speak(\"Forward\")\n",
    "        robot.speak(\"hello %.1f %.1f\" % (robot[\"left-light\"].get_brightness(), robot[\"right-light\"].get_brightness()))\n",
    "        robot.move(1, 0)"
   ]
  },
  {
   "cell_type": "markdown",
   "id": "3d9ded43",
   "metadata": {},
   "source": [
    "## Run the simulator\n",
    "Before starting a run, it is helpful to reset the world back to its orginal starting conditions. One way to run the simulator is to have the controller run indefinitely until True is returned. Because there could be multiple robots in the simulator, the run method expects to receive a **list** of controllers, one per robot.  We only have a single robot in our environment, so our list is of length one."
   ]
  },
  {
   "cell_type": "code",
   "execution_count": 34,
   "id": "0e87a8bb",
   "metadata": {},
   "outputs": [
    {
     "name": "stdout",
     "output_type": "stream",
     "text": [
      "Using random seed: 6678281\n"
     ]
    },
    {
     "data": {
      "application/json": {
       "ascii": false,
       "bar_format": null,
       "colour": null,
       "elapsed": 0.00675201416015625,
       "initial": 0,
       "n": 0,
       "ncols": null,
       "nrows": 48,
       "postfix": null,
       "prefix": "",
       "rate": null,
       "total": null,
       "unit": "it",
       "unit_divisor": 1000,
       "unit_scale": false
      },
      "application/vnd.jupyter.widget-view+json": {
       "model_id": "802afc46c9204741bd597467f99e0d2b",
       "version_major": 2,
       "version_minor": 0
      },
      "text/plain": [
       "0it [00:00, ?it/s]"
      ]
     },
     "metadata": {},
     "output_type": "display_data"
    },
    {
     "name": "stdout",
     "output_type": "stream",
     "text": [
      "Simulation stopped at: 00:00:16.90; speed 0.98 x real time\n"
     ]
    },
    {
     "data": {
      "text/plain": [
       "True"
      ]
     },
     "execution_count": 34,
     "metadata": {},
     "output_type": "execute_result"
    }
   ],
   "source": [
    "simple_world.reset()\n",
    "simple_world.run([avoid_walls])"
   ]
  },
  {
   "cell_type": "markdown",
   "id": "febccf4f",
   "metadata": {},
   "source": [
    "## Editing and re-running\n",
    "The safest way to re-run all of the code after you've made a change is to go to the *Kernel* menu at the top of the notebook and choose *Restart and Run All*. If your notebook ever ends up in a strange state, this is a good way to reset everything.  \n",
    "\n",
    "Or you can use SHIFT-ENTER to re-run a cell after you've made a change.  For example, suppose you change the `avoid_walls` controller and you want to test the new version.  Do SHIFT-ENTER in that cell and in the next code cell that resets and runs the simulator.  Watch the outcome of your new controller in the watch window. "
   ]
  },
  {
   "cell_type": "markdown",
   "id": "9a587b98",
   "metadata": {},
   "source": [
    "### Exercise 2\n",
    "Modify the `avoid_walls` controller so that the robot speaks it's current light readings when going forward. The speak command expects a single string as the parameter.  You can use string formatting to accomplish this. \n",
    "\n",
    "For example, if you had two float variables `x` and `y`, then you could have the robot speak their current values like this: \n",
    "\n",
    "`robot.speak(\"hello %.1f %.1f\" % (x, y))`  \n",
    "\n",
    "Be sure to re-test your controller after every change."
   ]
  },
  {
   "cell_type": "markdown",
   "id": "7b9afc07-cd2b-4da6-a7c7-d62707141fb4",
   "metadata": {},
   "source": [
    "### Exercise 3\n",
    "Modify the `avoid_walls` controller so that it will turn towards the light source.  \n",
    "\n",
    "If the left light reading is stronger than the right one, then it should move forward left. And if the right light reading is stronger than the left one, then it should move forward right. Make sure that for each case the robot speaks something unique that let's you know what it's doing. \n",
    "\n",
    "Once you make this change, the robot should find the light source faster than it did with the original version of the controller."
   ]
  },
  {
   "cell_type": "code",
   "execution_count": null,
   "id": "f6af8eae-b4da-45a0-966e-805f9af41cf4",
   "metadata": {},
   "outputs": [],
   "source": []
  }
 ],
 "metadata": {
  "kernelspec": {
   "display_name": "Python 3 (ipykernel)",
   "language": "python",
   "name": "python3"
  },
  "language_info": {
   "codemirror_mode": {
    "name": "ipython",
    "version": 3
   },
   "file_extension": ".py",
   "mimetype": "text/x-python",
   "name": "python",
   "nbconvert_exporter": "python",
   "pygments_lexer": "ipython3",
   "version": "3.10.4"
  }
 },
 "nbformat": 4,
 "nbformat_minor": 5
}
